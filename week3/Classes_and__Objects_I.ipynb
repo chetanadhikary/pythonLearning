{
 "cells": [
  {
   "cell_type": "markdown",
   "metadata": {},
   "source": [
    "# Syntax"
   ]
  },
  {
   "cell_type": "code",
   "execution_count": null,
   "metadata": {},
   "outputs": [],
   "source": [
    "class ClassName:\n",
    "    ## Can contains python statements\n",
    "    lst_A = list()\n",
    "    \n",
    "    def fun_A():\n",
    "        return None\n",
    "    \n",
    "    def fun_B():\n",
    "        return 0\n",
    "    \n",
    "    def fun_C():\n",
    "        return True       \n",
    "    \n"
   ]
  },
  {
   "cell_type": "markdown",
   "metadata": {},
   "source": [
    "# Simple Blank Class"
   ]
  },
  {
   "cell_type": "code",
   "execution_count": null,
   "metadata": {},
   "outputs": [],
   "source": [
    "class ClassA:\n",
    "    pass"
   ]
  },
  {
   "cell_type": "markdown",
   "metadata": {},
   "source": [
    "## Instantiation"
   ]
  },
  {
   "cell_type": "code",
   "execution_count": null,
   "metadata": {},
   "outputs": [],
   "source": [
    "## Create a new instance of the class and\n",
    "## assigns this objects to local variable e1 \n",
    "a1 = ClassA()\n",
    "a2 = ClassA()"
   ]
  },
  {
   "cell_type": "markdown",
   "metadata": {},
   "source": [
    "# Classes with attributes"
   ]
  },
  {
   "cell_type": "code",
   "execution_count": null,
   "metadata": {},
   "outputs": [],
   "source": [
    "class ClassB:    \n",
    "    company = 'XYZ'\n",
    "    \n",
    "    def funcB(self): \n",
    "        '''\n",
    "            This function contains self argument. \n",
    "            Hence an instance object of ClassB can call this function\n",
    "            \n",
    "        '''\n",
    "        print('Instance object calling funcB')\n",
    "        \n",
    "        \n",
    "    def funcA():\n",
    "        '''\n",
    "            Calling this function by the instance object throws an error\\n\n",
    "            because self is not passed\n",
    "            \n",
    "        '''\n",
    "        print('Instance object calling funcA')\n",
    "\n"
   ]
  },
  {
   "cell_type": "markdown",
   "metadata": {},
   "source": [
    "# Instance Objects\n",
    "<html>\n",
    "    <ul>\n",
    "        <li> Data Attributes\n",
    "        <li> Methods\n",
    "    \n",
    "</html>\n",
    "    "
   ]
  },
  {
   "cell_type": "code",
   "execution_count": null,
   "metadata": {},
   "outputs": [],
   "source": [
    "## Instantiation\n",
    "b1 = ClassB()\n",
    "b2 = ClassB()"
   ]
  },
  {
   "cell_type": "markdown",
   "metadata": {},
   "source": [
    "## Data Attributes"
   ]
  },
  {
   "cell_type": "code",
   "execution_count": null,
   "metadata": {},
   "outputs": [],
   "source": [
    "b1.shape = 'polygon'\n",
    "b1.name = 'pentagon'\n",
    "\n",
    "b2.geometry = 'square'\n",
    "b2.property = 'All sides are equal'"
   ]
  },
  {
   "cell_type": "markdown",
   "metadata": {},
   "source": [
    "## Methods"
   ]
  },
  {
   "cell_type": "code",
   "execution_count": null,
   "metadata": {},
   "outputs": [],
   "source": [
    "b1.funcB()"
   ]
  },
  {
   "cell_type": "code",
   "execution_count": null,
   "metadata": {},
   "outputs": [],
   "source": [
    "b1.funcA()"
   ]
  },
  {
   "cell_type": "markdown",
   "metadata": {},
   "source": [
    "# Class constructors"
   ]
  },
  {
   "cell_type": "code",
   "execution_count": null,
   "metadata": {},
   "outputs": [],
   "source": [
    "class Rectangle:\n",
    "    \n",
    "    def __init__(self,x_value,y_value):\n",
    "        self.x = x_value\n",
    "        self.y = y_value\n",
    "    \n",
    "    def area(self):\n",
    "        return self.x*self.y\n",
    "    \n",
    "    def perimeter(self):\n",
    "        return self.x+self.y\n",
    "        "
   ]
  },
  {
   "cell_type": "code",
   "execution_count": null,
   "metadata": {},
   "outputs": [],
   "source": [
    "shape1 = Rectangle(2,2)\n",
    "shape2 = Rectangle(4,5)"
   ]
  },
  {
   "cell_type": "code",
   "execution_count": null,
   "metadata": {},
   "outputs": [],
   "source": [
    "print(shape1.area())\n",
    "print(shape2.area())"
   ]
  },
  {
   "cell_type": "markdown",
   "metadata": {},
   "source": [
    "# Class and Instance Variables"
   ]
  },
  {
   "cell_type": "code",
   "execution_count": null,
   "metadata": {},
   "outputs": [],
   "source": [
    "class Car:\n",
    "    wheels = 4 ## Class variable shared by all instances \n",
    "    def __init__(self,model):\n",
    "        self.model = model\n",
    "        self.features = list() #instance variable unique to each instance\n",
    "        \n",
    "    def add_features(self,*args):\n",
    "        for feature in args:\n",
    "            self.features.append(feature)\n",
    "    "
   ]
  },
  {
   "cell_type": "code",
   "execution_count": null,
   "metadata": {},
   "outputs": [],
   "source": [
    "maruti = Car('Celerio')\n",
    "hyundai = Car('Santro')\n",
    "hyundai.add_features('Power Steering,Low Engine Noise')\n",
    "maruti.add_features('A/C','Fuel Economy')"
   ]
  },
  {
   "cell_type": "code",
   "execution_count": null,
   "metadata": {},
   "outputs": [],
   "source": [
    "print('maruti object\\n special features-->{0},\\n common feature -->{1}'.format(maruti.features,maruti.wheels))\n",
    "print('hyundai object\\n special features-->{0},\\n common feature -->{1}'.format(hyundai.features,hyundai.wheels))"
   ]
  },
  {
   "cell_type": "markdown",
   "metadata": {},
   "source": [
    "# In Class Assignment 1\n",
    "<html>\n",
    "    <p style=\"color:Tomato;\"> Create a class with a name Employee.</p>\n",
    "        <ul>\n",
    "            <li><p style=\"color:DodgerBlue;\"> Create a class variable and name it as company. Assign it to the string 'TCS'\n",
    "                <li> <p style=\"color:DodgerBlue;\">Create the following instance variables</p>\n",
    "                <ul>\n",
    "                    <li> <p style=\"color:Violet;\">instance variable 'name'</p>\n",
    "                    <li> <p style=\"color:Violet;\">instance variable 'emp_id'</p>\n",
    "                </ul>\n",
    "            <li> <p style=\"color:DodgerBlue;\">Create the instance variable inside the contructor</p>\n",
    "            <li> <p style=\"color:DodgerBlue;\">Create a function named 'emp_details'.\n",
    "                Inside the function, print the following details of a particular employee instance</p>\n",
    "                <ul>\n",
    "                    <li> <p style=\"color:Violet;\"> Employee ID </p>\n",
    "                    <li> <p style=\"color:Violet;\"> Employee Name </p>\n",
    "                    <li> <p style=\"color:Violet;\">Company Name</p>                    \n",
    "    </ul> \n",
    "    "
   ]
  },
  {
   "cell_type": "markdown",
   "metadata": {},
   "source": [
    "## 5 min duration"
   ]
  },
  {
   "cell_type": "markdown",
   "metadata": {},
   "source": [
    "import time\n",
    "time.sleep(5*60)"
   ]
  },
  {
   "cell_type": "code",
   "execution_count": null,
   "metadata": {},
   "outputs": [],
   "source": []
  }
 ],
 "metadata": {
  "kernelspec": {
   "display_name": "Python 3",
   "language": "python",
   "name": "python3"
  },
  "language_info": {
   "codemirror_mode": {
    "name": "ipython",
    "version": 3
   },
   "file_extension": ".py",
   "mimetype": "text/x-python",
   "name": "python",
   "nbconvert_exporter": "python",
   "pygments_lexer": "ipython3",
   "version": "3.7.1"
  }
 },
 "nbformat": 4,
 "nbformat_minor": 2
}
