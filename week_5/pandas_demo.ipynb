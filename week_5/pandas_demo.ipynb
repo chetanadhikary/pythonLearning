{
 "cells": [
  {
   "cell_type": "code",
   "execution_count": null,
   "metadata": {},
   "outputs": [],
   "source": [
    "lst_names = ['chetan','bruhanth','aishwarya','shabbir','sindhu']\n",
    "lst_job = ['Faculty','Research','Developer','Developer','Developer']\n",
    "lst_hobbies = [['cricket','reading'],['reading'],['travelling'],['reading'],['reading']]"
   ]
  },
  {
   "cell_type": "markdown",
   "metadata": {},
   "source": [
    "<html>\n",
    "    <table>\n",
    "        <tr>\n",
    "            <th>index</th><th> 0 </th><th> 1</th><th> 2</th><th> 3</th><th> 4</th>\n",
    "        </tr>\n",
    "        <tr>\n",
    "            <td>lst_names</td><td>chetan</td><td>bruhanth</td><td>aishwarya</td><td>shabbir</td><td>sindhu</td>\n",
    "        </tr>\n",
    "        <tr>\n",
    "            <td>lst_job</td><td>Faculty</td><td>Research</td><td>Developer</td><td>Developer</td><td>Developer</td>\n",
    "        </tr>\n",
    "        <tr>\n",
    "            <td>lst_hobbies</td><td>cricket,reading</td><td>reading</td><td>travelling</td><td>reading</td><td>reading</td>\n",
    "        </tr>\n",
    "    </table>\n",
    "</html>"
   ]
  },
  {
   "cell_type": "code",
   "execution_count": null,
   "metadata": {},
   "outputs": [],
   "source": [
    "index = lst_names.index('bruhanth')\n",
    "lst_job[index]"
   ]
  },
  {
   "cell_type": "code",
   "execution_count": null,
   "metadata": {},
   "outputs": [],
   "source": [
    "dict_profile_1 ={'Name':'chetan','Job':'Faculty','hobbies':['cricket','reading'],}\n",
    "dict_profile_2 = {'Name':'bruhanth','Job':'Research','hobbies':['reading']}\n",
    "dict_profile_3 = {'Name':'aishwarya','Job':'Developer','hobbies':['travelling']}\n",
    "dict_profile_4 = {'Name':'shabbir','Job':'Developer','hobbies':['reading']}\n",
    "dict_profile_5 = {'Name':'sindhu','Job':'Developer','hobbies':['reading']}\n",
    "lst_profiles = list([dict_profile_1,dict_profile_2,dict_profile_3,dict_profile_4,dict_profile_5])"
   ]
  },
  {
   "cell_type": "markdown",
   "metadata": {},
   "source": [
    "<html>\n",
    "    <table >\n",
    "        <tr>\n",
    "            <th>index</th><th> 0 </th><th> 1 </th><th> 2</th><th> 3</th><th> 4</th>\n",
    "        </tr>\n",
    "        <tr>\n",
    "            <td>Name</td><td>chetan</td><td>bruhanth</td><td>aishwarya</td><td>shabbir</td><td>sindhu</td>\n",
    "        </tr>\n",
    "        <tr>\n",
    "            <td>Job</td><td>Faculty</td><td>Research</td><td>Developer</td><td>Developer</td><td>Developer</td>\n",
    "        </tr>\n",
    "        <tr>\n",
    "            <td>hobbies</td><td>cricket,reading</td><td>reading</td><td>travelling</td><td>reading</td><td>reading</td>\n",
    "        </tr>\n",
    "    </table>\n",
    "</html>"
   ]
  },
  {
   "cell_type": "code",
   "execution_count": null,
   "metadata": {},
   "outputs": [],
   "source": [
    "lst_profiles[0]['hobbies']\n",
    "\n",
    "dict_profiles = dict({'chetan':dict_profile_1,'bruhanth':dict_profile_2,\n",
    "                     'aishwarya':dict_profile_3,'shabbir':dict_profile_4,\n",
    "                     'sindhu':dict_profile_5})"
   ]
  },
  {
   "cell_type": "markdown",
   "metadata": {},
   "source": [
    "<html>\n",
    "    <table >\n",
    "        <tr>\n",
    "            <th>key</th><th> Name </th><th> Job </th><th>Hobbies</th>\n",
    "        </tr>\n",
    "        <tr>\n",
    "            <td>chetan</td><td>chetan</td><td>Faculty</td><td>reading,cricket</td>\n",
    "        </tr>\n",
    "        <tr>\n",
    "            <td>bruhanth</td><td>bruhanth</td><td>Research</td><td>reading</td>\n",
    "        </tr>\n",
    "        <tr>\n",
    "            <td>aishwarya</td><td>aishwarya</td><td>Developer</td><td>travelling</td>\n",
    "        </tr>\n",
    "        <tr>\n",
    "            <td>shabbir</td><td>shabbir</td><td>Developer</td><td>reading</td>\n",
    "        </tr>\n",
    "        <tr>\n",
    "            <td>sindhu</td><td>sindhu</td><td>Developer</td><td>reading</td>\n",
    "        </tr>\n",
    "    </table>\n",
    "</html>"
   ]
  },
  {
   "cell_type": "code",
   "execution_count": 1,
   "metadata": {},
   "outputs": [],
   "source": [
    "dict_profiles['chetan']['Name']"
   ]
  },
  {
   "cell_type": "markdown",
   "metadata": {},
   "source": [
    "# Pandas Datastructures"
   ]
  },
  {
   "cell_type": "code",
   "execution_count": 1,
   "metadata": {},
   "outputs": [],
   "source": [
    "import pandas as pd"
   ]
  },
  {
   "cell_type": "code",
   "execution_count": 2,
   "metadata": {},
   "outputs": [],
   "source": [
    "import numpy as np"
   ]
  },
  {
   "cell_type": "markdown",
   "metadata": {},
   "source": [
    "## Dataframe"
   ]
  },
  {
   "cell_type": "code",
   "execution_count": 8,
   "metadata": {},
   "outputs": [],
   "source": [
    "df_student = pd.DataFrame()\n",
    "df_student['Name'] = ['Harry Potter','Ronald Weasley','Harmoine Grenger']\n",
    "df_student['Branch'] = ['ECE','CSE','ECE']\n",
    "df_student['Hobbies'] = ['Football,Cricket','Chess','Reading']"
   ]
  },
  {
   "cell_type": "code",
   "execution_count": 9,
   "metadata": {},
   "outputs": [
    {
     "data": {
      "text/html": [
       "<div>\n",
       "<style scoped>\n",
       "    .dataframe tbody tr th:only-of-type {\n",
       "        vertical-align: middle;\n",
       "    }\n",
       "\n",
       "    .dataframe tbody tr th {\n",
       "        vertical-align: top;\n",
       "    }\n",
       "\n",
       "    .dataframe thead th {\n",
       "        text-align: right;\n",
       "    }\n",
       "</style>\n",
       "<table border=\"1\" class=\"dataframe\">\n",
       "  <thead>\n",
       "    <tr style=\"text-align: right;\">\n",
       "      <th></th>\n",
       "      <th>Name</th>\n",
       "      <th>Branch</th>\n",
       "      <th>Hobbies</th>\n",
       "    </tr>\n",
       "  </thead>\n",
       "  <tbody>\n",
       "    <tr>\n",
       "      <th>0</th>\n",
       "      <td>Harry Potter</td>\n",
       "      <td>ECE</td>\n",
       "      <td>Football,Cricket</td>\n",
       "    </tr>\n",
       "    <tr>\n",
       "      <th>1</th>\n",
       "      <td>Ronald Weasley</td>\n",
       "      <td>CSE</td>\n",
       "      <td>Chess</td>\n",
       "    </tr>\n",
       "    <tr>\n",
       "      <th>2</th>\n",
       "      <td>Harmoine Grenger</td>\n",
       "      <td>ECE</td>\n",
       "      <td>Reading</td>\n",
       "    </tr>\n",
       "  </tbody>\n",
       "</table>\n",
       "</div>"
      ],
      "text/plain": [
       "               Name Branch           Hobbies\n",
       "0      Harry Potter    ECE  Football,Cricket\n",
       "1    Ronald Weasley    CSE             Chess\n",
       "2  Harmoine Grenger    ECE           Reading"
      ]
     },
     "execution_count": 9,
     "metadata": {},
     "output_type": "execute_result"
    }
   ],
   "source": [
    "df_student"
   ]
  },
  {
   "cell_type": "markdown",
   "metadata": {},
   "source": [
    "## Series"
   ]
  },
  {
   "cell_type": "code",
   "execution_count": 10,
   "metadata": {},
   "outputs": [
    {
     "data": {
      "text/plain": [
       "Name                      Draco\n",
       "Branch                    Civil\n",
       "Hobbies    Bowling,Horse Riding\n",
       "dtype: object"
      ]
     },
     "execution_count": 10,
     "metadata": {},
     "output_type": "execute_result"
    }
   ],
   "source": [
    "ser_1 = pd.Series(['Draco','Civil','Bowling,Horse Riding'],index = ['Name','Branch','Hobbies'])\n",
    "ser_1"
   ]
  },
  {
   "cell_type": "code",
   "execution_count": 11,
   "metadata": {},
   "outputs": [
    {
     "data": {
      "text/html": [
       "<div>\n",
       "<style scoped>\n",
       "    .dataframe tbody tr th:only-of-type {\n",
       "        vertical-align: middle;\n",
       "    }\n",
       "\n",
       "    .dataframe tbody tr th {\n",
       "        vertical-align: top;\n",
       "    }\n",
       "\n",
       "    .dataframe thead th {\n",
       "        text-align: right;\n",
       "    }\n",
       "</style>\n",
       "<table border=\"1\" class=\"dataframe\">\n",
       "  <thead>\n",
       "    <tr style=\"text-align: right;\">\n",
       "      <th></th>\n",
       "      <th>Name</th>\n",
       "      <th>Branch</th>\n",
       "      <th>Hobbies</th>\n",
       "    </tr>\n",
       "  </thead>\n",
       "  <tbody>\n",
       "    <tr>\n",
       "      <th>0</th>\n",
       "      <td>Harry Potter</td>\n",
       "      <td>ECE</td>\n",
       "      <td>Football,Cricket</td>\n",
       "    </tr>\n",
       "    <tr>\n",
       "      <th>1</th>\n",
       "      <td>Ronald Weasley</td>\n",
       "      <td>CSE</td>\n",
       "      <td>Chess</td>\n",
       "    </tr>\n",
       "    <tr>\n",
       "      <th>2</th>\n",
       "      <td>Harmoine Grenger</td>\n",
       "      <td>ECE</td>\n",
       "      <td>Reading</td>\n",
       "    </tr>\n",
       "    <tr>\n",
       "      <th>3</th>\n",
       "      <td>Draco</td>\n",
       "      <td>Civil</td>\n",
       "      <td>Bowling,Horse Riding</td>\n",
       "    </tr>\n",
       "  </tbody>\n",
       "</table>\n",
       "</div>"
      ],
      "text/plain": [
       "               Name Branch               Hobbies\n",
       "0      Harry Potter    ECE      Football,Cricket\n",
       "1    Ronald Weasley    CSE                 Chess\n",
       "2  Harmoine Grenger    ECE               Reading\n",
       "3             Draco  Civil  Bowling,Horse Riding"
      ]
     },
     "execution_count": 11,
     "metadata": {},
     "output_type": "execute_result"
    }
   ],
   "source": [
    "df_student.append(ser_1,ignore_index= True)"
   ]
  },
  {
   "cell_type": "markdown",
   "metadata": {},
   "source": [
    "# Load DataSet"
   ]
  },
  {
   "cell_type": "code",
   "execution_count": 12,
   "metadata": {},
   "outputs": [],
   "source": [
    "import pandas as pd"
   ]
  },
  {
   "cell_type": "markdown",
   "metadata": {},
   "source": [
    "## Read books.csv dataset"
   ]
  },
  {
   "cell_type": "code",
   "execution_count": null,
   "metadata": {},
   "outputs": [],
   "source": []
  },
  {
   "cell_type": "markdown",
   "metadata": {},
   "source": [
    "## Get top 5 and bottom 5 entries of the dataset"
   ]
  },
  {
   "cell_type": "code",
   "execution_count": null,
   "metadata": {},
   "outputs": [],
   "source": []
  },
  {
   "cell_type": "markdown",
   "metadata": {},
   "source": [
    "## Get the datatypes of the columns in the dataset"
   ]
  },
  {
   "cell_type": "code",
   "execution_count": null,
   "metadata": {},
   "outputs": [],
   "source": []
  },
  {
   "cell_type": "markdown",
   "metadata": {},
   "source": [
    "## Get the number of entries and columns of the dataset"
   ]
  },
  {
   "cell_type": "code",
   "execution_count": null,
   "metadata": {},
   "outputs": [],
   "source": []
  },
  {
   "cell_type": "markdown",
   "metadata": {},
   "source": [
    "## Get the columns of the dataset"
   ]
  },
  {
   "cell_type": "code",
   "execution_count": null,
   "metadata": {},
   "outputs": [],
   "source": []
  },
  {
   "cell_type": "markdown",
   "metadata": {},
   "source": [
    "## Get the complete description of all the columns"
   ]
  },
  {
   "cell_type": "code",
   "execution_count": null,
   "metadata": {},
   "outputs": [],
   "source": []
  },
  {
   "cell_type": "markdown",
   "metadata": {},
   "source": [
    "## Get the count of each of the author/authors publication"
   ]
  },
  {
   "cell_type": "code",
   "execution_count": null,
   "metadata": {},
   "outputs": [],
   "source": []
  },
  {
   "cell_type": "markdown",
   "metadata": {},
   "source": [
    "## Get the index of the dataset"
   ]
  },
  {
   "cell_type": "code",
   "execution_count": null,
   "metadata": {},
   "outputs": [],
   "source": []
  },
  {
   "cell_type": "markdown",
   "metadata": {},
   "source": [
    "# Filter the Data"
   ]
  },
  {
   "cell_type": "markdown",
   "metadata": {},
   "source": [
    "## Get the first five rows of the dataset"
   ]
  },
  {
   "cell_type": "code",
   "execution_count": null,
   "metadata": {},
   "outputs": [],
   "source": []
  },
  {
   "cell_type": "markdown",
   "metadata": {},
   "source": [
    "## Get all the rows selecting the collumns title ,authors and language_code"
   ]
  },
  {
   "cell_type": "code",
   "execution_count": null,
   "metadata": {},
   "outputs": [],
   "source": []
  },
  {
   "cell_type": "markdown",
   "metadata": {},
   "source": [
    "## Get the titles written by only J.K. Rowling"
   ]
  },
  {
   "cell_type": "code",
   "execution_count": null,
   "metadata": {},
   "outputs": [],
   "source": []
  },
  {
   "cell_type": "code",
   "execution_count": null,
   "metadata": {},
   "outputs": [],
   "source": []
  },
  {
   "cell_type": "markdown",
   "metadata": {},
   "source": [
    "## Get the titles written by either J.K. Rowling or Stephen King"
   ]
  },
  {
   "cell_type": "code",
   "execution_count": null,
   "metadata": {},
   "outputs": [],
   "source": []
  },
  {
   "cell_type": "markdown",
   "metadata": {},
   "source": [
    "## Get the titles of the books which contain Harry Potter"
   ]
  },
  {
   "cell_type": "code",
   "execution_count": null,
   "metadata": {},
   "outputs": [],
   "source": []
  },
  {
   "cell_type": "markdown",
   "metadata": {},
   "source": [
    "# Operations on DataFrame\n"
   ]
  },
  {
   "cell_type": "markdown",
   "metadata": {},
   "source": [
    "## Sort the dataset w.r.t title column"
   ]
  },
  {
   "cell_type": "code",
   "execution_count": null,
   "metadata": {},
   "outputs": [],
   "source": []
  },
  {
   "cell_type": "markdown",
   "metadata": {},
   "source": [
    "## Add a new column grade . Assign grade A for ratings between 4-5, B for ratings between 3-4 and C for any rating below 3"
   ]
  },
  {
   "cell_type": "code",
   "execution_count": null,
   "metadata": {},
   "outputs": [],
   "source": []
  },
  {
   "cell_type": "markdown",
   "metadata": {},
   "source": [
    "# GroupBy"
   ]
  },
  {
   "cell_type": "markdown",
   "metadata": {},
   "source": [
    "## Use occupation dataset from occupation.csv"
   ]
  },
  {
   "cell_type": "code",
   "execution_count": null,
   "metadata": {},
   "outputs": [],
   "source": []
  },
  {
   "cell_type": "markdown",
   "metadata": {},
   "source": [
    "## Identify the occupation where female workers are more in number compared to male workers. Also get the difference number. Plot the result as occupation vs the number of jobs for male and female in one graph"
   ]
  },
  {
   "cell_type": "code",
   "execution_count": null,
   "metadata": {},
   "outputs": [],
   "source": []
  },
  {
   "cell_type": "markdown",
   "metadata": {},
   "source": [
    "## Categorize male and female works who fall in different age group. Get the age group approximated to multiples of 10. (10,20,30,40.. i.e any age between 10 to 20 has to approximated to 20 , between 20 to 30 to 30 and so on..). Plot the appropriate graph"
   ]
  },
  {
   "cell_type": "code",
   "execution_count": null,
   "metadata": {},
   "outputs": [],
   "source": []
  },
  {
   "cell_type": "markdown",
   "metadata": {},
   "source": [
    "## Load tips dataset"
   ]
  },
  {
   "cell_type": "markdown",
   "metadata": {},
   "source": [
    "## Calculate the tips given by male and female on particular day of the week. Plot an appropriate graph showing days of the week , tips given by male and female for all the days of the week"
   ]
  },
  {
   "cell_type": "code",
   "execution_count": null,
   "metadata": {},
   "outputs": [],
   "source": []
  }
 ],
 "metadata": {
  "kernelspec": {
   "display_name": "Python 3",
   "language": "python",
   "name": "python3"
  },
  "language_info": {
   "codemirror_mode": {
    "name": "ipython",
    "version": 3
   },
   "file_extension": ".py",
   "mimetype": "text/x-python",
   "name": "python",
   "nbconvert_exporter": "python",
   "pygments_lexer": "ipython3",
   "version": "3.7.6"
  }
 },
 "nbformat": 4,
 "nbformat_minor": 2
}
