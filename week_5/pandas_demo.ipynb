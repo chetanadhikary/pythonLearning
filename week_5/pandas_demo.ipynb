{
 "cells": [
  {
   "cell_type": "code",
   "execution_count": null,
   "metadata": {},
   "outputs": [],
   "source": [
    "lst_names = ['chetan','bruhanth','aishwarya','shabbir','sindhu']\n",
    "lst_job = ['Faculty','Research','Developer','Developer','Developer']\n",
    "lst_hobbies = [['cricket','reading'],['reading'],['travelling'],['reading'],['reading']]"
   ]
  },
  {
   "cell_type": "markdown",
   "metadata": {},
   "source": [
    "<html>\n",
    "    <table>\n",
    "        <tr>\n",
    "            <th>index</th><th> 0 </th><th> 1</th><th> 2</th><th> 3</th><th> 4</th>\n",
    "        </tr>\n",
    "        <tr>\n",
    "            <td>lst_names</td><td>chetan</td><td>bruhanth</td><td>aishwarya</td><td>shabbir</td><td>sindhu</td>\n",
    "        </tr>\n",
    "        <tr>\n",
    "            <td>lst_job</td><td>Faculty</td><td>Research</td><td>Developer</td><td>Developer</td><td>Developer</td>\n",
    "        </tr>\n",
    "        <tr>\n",
    "            <td>lst_hobbies</td><td>cricket,reading</td><td>reading</td><td>travelling</td><td>reading</td><td>reading</td>\n",
    "        </tr>\n",
    "    </table>\n",
    "</html>"
   ]
  },
  {
   "cell_type": "code",
   "execution_count": null,
   "metadata": {},
   "outputs": [],
   "source": [
    "index = lst_names.index('bruhanth')\n",
    "lst_job[index]"
   ]
  },
  {
   "cell_type": "code",
   "execution_count": null,
   "metadata": {},
   "outputs": [],
   "source": [
    "dict_profile_1 ={'Name':'chetan','Job':'Faculty','hobbies':['cricket','reading'],}\n",
    "dict_profile_2 = {'Name':'bruhanth','Job':'Research','hobbies':['reading']}\n",
    "dict_profile_3 = {'Name':'aishwarya','Job':'Developer','hobbies':['travelling']}\n",
    "dict_profile_4 = {'Name':'shabbir','Job':'Developer','hobbies':['reading']}\n",
    "dict_profile_5 = {'Name':'sindhu','Job':'Developer','hobbies':['reading']}\n",
    "lst_profiles = list([dict_profile_1,dict_profile_2,dict_profile_3,dict_profile_4,dict_profile_5])"
   ]
  },
  {
   "cell_type": "markdown",
   "metadata": {},
   "source": [
    "<html>\n",
    "    <table >\n",
    "        <tr>\n",
    "            <th>index</th><th> 0 </th><th> 1 </th><th> 2</th><th> 3</th><th> 4</th>\n",
    "        </tr>\n",
    "        <tr>\n",
    "            <td>Name</td><td>chetan</td><td>bruhanth</td><td>aishwarya</td><td>shabbir</td><td>sindhu</td>\n",
    "        </tr>\n",
    "        <tr>\n",
    "            <td>Job</td><td>Faculty</td><td>Research</td><td>Developer</td><td>Developer</td><td>Developer</td>\n",
    "        </tr>\n",
    "        <tr>\n",
    "            <td>hobbies</td><td>cricket,reading</td><td>reading</td><td>travelling</td><td>reading</td><td>reading</td>\n",
    "        </tr>\n",
    "    </table>\n",
    "</html>"
   ]
  },
  {
   "cell_type": "code",
   "execution_count": null,
   "metadata": {},
   "outputs": [],
   "source": [
    "lst_profiles[0]['hobbies']\n",
    "\n",
    "dict_profiles = dict({'chetan':dict_profile_1,'bruhanth':dict_profile_2,\n",
    "                     'aishwarya':dict_profile_3,'shabbir':dict_profile_4,\n",
    "                     'sindhu':dict_profile_5})"
   ]
  },
  {
   "cell_type": "markdown",
   "metadata": {},
   "source": [
    "<html>\n",
    "    <table >\n",
    "        <tr>\n",
    "            <th>key</th><th> Name </th><th> Job </th><th>Hobbies</th>\n",
    "        </tr>\n",
    "        <tr>\n",
    "            <td>chetan</td><td>chetan</td><td>Faculty</td><td>reading,cricket</td>\n",
    "        </tr>\n",
    "        <tr>\n",
    "            <td>bruhanth</td><td>bruhanth</td><td>Research</td><td>reading</td>\n",
    "        </tr>\n",
    "        <tr>\n",
    "            <td>aishwarya</td><td>aishwarya</td><td>Developer</td><td>travelling</td>\n",
    "        </tr>\n",
    "        <tr>\n",
    "            <td>shabbir</td><td>shabbir</td><td>Developer</td><td>reading</td>\n",
    "        </tr>\n",
    "        <tr>\n",
    "            <td>sindhu</td><td>sindhu</td><td>Developer</td><td>reading</td>\n",
    "        </tr>\n",
    "    </table>\n",
    "</html>"
   ]
  },
  {
   "cell_type": "code",
   "execution_count": 1,
   "metadata": {},
   "outputs": [],
   "source": [
    "dict_profiles['chetan']['Name']"
   ]
  },
  {
   "cell_type": "markdown",
   "metadata": {},
   "source": [
    "# Pandas Datastructures"
   ]
  },
  {
   "cell_type": "code",
   "execution_count": 1,
   "metadata": {},
   "outputs": [],
   "source": [
    "import pandas as pd"
   ]
  },
  {
   "cell_type": "code",
   "execution_count": 2,
   "metadata": {},
   "outputs": [],
   "source": [
    "import numpy as np"
   ]
  },
  {
   "cell_type": "markdown",
   "metadata": {},
   "source": [
    "## Dataframe"
   ]
  },
  {
   "cell_type": "code",
   "execution_count": 8,
   "metadata": {},
   "outputs": [],
   "source": [
    "df_student = pd.DataFrame()\n",
    "df_student['Name'] = ['Harry Potter','Ronald Weasley','Harmoine Grenger']\n",
    "df_student['Branch'] = ['ECE','CSE','ECE']\n",
    "df_student['Hobbies'] = ['Football,Cricket','Chess','Reading']"
   ]
  },
  {
   "cell_type": "code",
   "execution_count": 9,
   "metadata": {},
   "outputs": [
    {
     "data": {
      "text/html": [
       "<div>\n",
       "<style scoped>\n",
       "    .dataframe tbody tr th:only-of-type {\n",
       "        vertical-align: middle;\n",
       "    }\n",
       "\n",
       "    .dataframe tbody tr th {\n",
       "        vertical-align: top;\n",
       "    }\n",
       "\n",
       "    .dataframe thead th {\n",
       "        text-align: right;\n",
       "    }\n",
       "</style>\n",
       "<table border=\"1\" class=\"dataframe\">\n",
       "  <thead>\n",
       "    <tr style=\"text-align: right;\">\n",
       "      <th></th>\n",
       "      <th>Name</th>\n",
       "      <th>Branch</th>\n",
       "      <th>Hobbies</th>\n",
       "    </tr>\n",
       "  </thead>\n",
       "  <tbody>\n",
       "    <tr>\n",
       "      <th>0</th>\n",
       "      <td>Harry Potter</td>\n",
       "      <td>ECE</td>\n",
       "      <td>Football,Cricket</td>\n",
       "    </tr>\n",
       "    <tr>\n",
       "      <th>1</th>\n",
       "      <td>Ronald Weasley</td>\n",
       "      <td>CSE</td>\n",
       "      <td>Chess</td>\n",
       "    </tr>\n",
       "    <tr>\n",
       "      <th>2</th>\n",
       "      <td>Harmoine Grenger</td>\n",
       "      <td>ECE</td>\n",
       "      <td>Reading</td>\n",
       "    </tr>\n",
       "  </tbody>\n",
       "</table>\n",
       "</div>"
      ],
      "text/plain": [
       "               Name Branch           Hobbies\n",
       "0      Harry Potter    ECE  Football,Cricket\n",
       "1    Ronald Weasley    CSE             Chess\n",
       "2  Harmoine Grenger    ECE           Reading"
      ]
     },
     "execution_count": 9,
     "metadata": {},
     "output_type": "execute_result"
    }
   ],
   "source": [
    "df_student"
   ]
  },
  {
   "cell_type": "markdown",
   "metadata": {},
   "source": [
    "## Series"
   ]
  },
  {
   "cell_type": "code",
   "execution_count": 10,
   "metadata": {},
   "outputs": [
    {
     "data": {
      "text/plain": [
       "Name                      Draco\n",
       "Branch                    Civil\n",
       "Hobbies    Bowling,Horse Riding\n",
       "dtype: object"
      ]
     },
     "execution_count": 10,
     "metadata": {},
     "output_type": "execute_result"
    }
   ],
   "source": [
    "ser_1 = pd.Series(['Draco','Civil','Bowling,Horse Riding'],index = ['Name','Branch','Hobbies'])\n",
    "ser_1"
   ]
  },
  {
   "cell_type": "code",
   "execution_count": 11,
   "metadata": {},
   "outputs": [
    {
     "data": {
      "text/html": [
       "<div>\n",
       "<style scoped>\n",
       "    .dataframe tbody tr th:only-of-type {\n",
       "        vertical-align: middle;\n",
       "    }\n",
       "\n",
       "    .dataframe tbody tr th {\n",
       "        vertical-align: top;\n",
       "    }\n",
       "\n",
       "    .dataframe thead th {\n",
       "        text-align: right;\n",
       "    }\n",
       "</style>\n",
       "<table border=\"1\" class=\"dataframe\">\n",
       "  <thead>\n",
       "    <tr style=\"text-align: right;\">\n",
       "      <th></th>\n",
       "      <th>Name</th>\n",
       "      <th>Branch</th>\n",
       "      <th>Hobbies</th>\n",
       "    </tr>\n",
       "  </thead>\n",
       "  <tbody>\n",
       "    <tr>\n",
       "      <th>0</th>\n",
       "      <td>Harry Potter</td>\n",
       "      <td>ECE</td>\n",
       "      <td>Football,Cricket</td>\n",
       "    </tr>\n",
       "    <tr>\n",
       "      <th>1</th>\n",
       "      <td>Ronald Weasley</td>\n",
       "      <td>CSE</td>\n",
       "      <td>Chess</td>\n",
       "    </tr>\n",
       "    <tr>\n",
       "      <th>2</th>\n",
       "      <td>Harmoine Grenger</td>\n",
       "      <td>ECE</td>\n",
       "      <td>Reading</td>\n",
       "    </tr>\n",
       "    <tr>\n",
       "      <th>3</th>\n",
       "      <td>Draco</td>\n",
       "      <td>Civil</td>\n",
       "      <td>Bowling,Horse Riding</td>\n",
       "    </tr>\n",
       "  </tbody>\n",
       "</table>\n",
       "</div>"
      ],
      "text/plain": [
       "               Name Branch               Hobbies\n",
       "0      Harry Potter    ECE      Football,Cricket\n",
       "1    Ronald Weasley    CSE                 Chess\n",
       "2  Harmoine Grenger    ECE               Reading\n",
       "3             Draco  Civil  Bowling,Horse Riding"
      ]
     },
     "execution_count": 11,
     "metadata": {},
     "output_type": "execute_result"
    }
   ],
   "source": [
    "df_student.append(ser_1,ignore_index= True)"
   ]
  },
  {
   "cell_type": "markdown",
   "metadata": {},
   "source": [
    "# Load DataSet"
   ]
  },
  {
   "cell_type": "code",
   "execution_count": 12,
   "metadata": {},
   "outputs": [],
   "source": [
    "import pandas as pd"
   ]
  },
  {
   "cell_type": "markdown",
   "metadata": {},
   "source": [
    "## Read books.csv dataset"
   ]
  },
  {
   "cell_type": "code",
   "execution_count": null,
   "metadata": {},
   "outputs": [],
   "source": []
  },
  {
   "cell_type": "markdown",
   "metadata": {},
   "source": [
    "## Get top 5 and bottom 5 entries of the dataset"
   ]
  },
  {
   "cell_type": "code",
   "execution_count": null,
   "metadata": {},
   "outputs": [],
   "source": []
  },
  {
   "cell_type": "markdown",
   "metadata": {},
   "source": [
    "## Get the datatypes of the columns in the dataset"
   ]
  },
  {
   "cell_type": "code",
   "execution_count": null,
   "metadata": {},
   "outputs": [],
   "source": []
  },
  {
   "cell_type": "markdown",
   "metadata": {},
   "source": [
    "## Get the number of entries and columns of the dataset"
   ]
  },
  {
   "cell_type": "code",
   "execution_count": null,
   "metadata": {},
   "outputs": [],
   "source": []
  },
  {
   "cell_type": "markdown",
   "metadata": {},
   "source": [
    "## Get the columns of the dataset"
   ]
  },
  {
   "cell_type": "code",
   "execution_count": null,
   "metadata": {},
   "outputs": [],
   "source": []
  },
  {
   "cell_type": "markdown",
   "metadata": {},
   "source": [
    "## Get the complete description of all the columns"
   ]
  },
  {
   "cell_type": "code",
   "execution_count": null,
   "metadata": {},
   "outputs": [],
   "source": []
  },
  {
   "cell_type": "markdown",
   "metadata": {},
   "source": [
    "## Get the count of each of the author/authors publication"
   ]
  },
  {
   "cell_type": "code",
   "execution_count": null,
   "metadata": {},
   "outputs": [],
   "source": []
  },
  {
   "cell_type": "markdown",
   "metadata": {},
   "source": [
    "## Get the index of the dataset"
   ]
  },
  {
   "cell_type": "code",
   "execution_count": null,
   "metadata": {},
   "outputs": [],
   "source": []
  },
  {
   "cell_type": "markdown",
   "metadata": {},
   "source": [
    "# Filter the Data"
   ]
  },
  {
   "cell_type": "markdown",
   "metadata": {},
   "source": [
    "## Get the first five rows of the dataset"
   ]
  },
  {
   "cell_type": "code",
   "execution_count": 1,
   "metadata": {},
   "outputs": [],
   "source": [
    "import pandas as pd"
   ]
  },
  {
   "cell_type": "code",
   "execution_count": 14,
   "metadata": {},
   "outputs": [],
   "source": [
    "df = pd.read_csv('books.csv')"
   ]
  },
  {
   "cell_type": "code",
   "execution_count": 3,
   "metadata": {},
   "outputs": [
    {
     "output_type": "execute_result",
     "data": {
      "text/plain": "   bookID                                              title  \\\n0       1  Harry Potter and the Half-Blood Prince (Harry ...   \n1       2  Harry Potter and the Order of the Phoenix (Har...   \n2       3  Harry Potter and the Sorcerer's Stone (Harry P...   \n3       4  Harry Potter and the Chamber of Secrets (Harry...   \n4       5  Harry Potter and the Prisoner of Azkaban (Harr...   \n\n                      authors average_rating        isbn       isbn13  \\\n0  J.K. Rowling-Mary GrandPré           4.56   439785960  9.78044E+12   \n1  J.K. Rowling-Mary GrandPré           4.49   439358078  9.78044E+12   \n2  J.K. Rowling-Mary GrandPré           4.47   439554934  9.78044E+12   \n3                J.K. Rowling           4.41   439554896  9.78044E+12   \n4  J.K. Rowling-Mary GrandPré           4.55  043965548X  9.78044E+12   \n\n  language_code # num_pages  ratings_count  text_reviews_count  Unnamed: 10  \n0           eng         652        1944099               26249          NaN  \n1           eng         870        1996446               27613          NaN  \n2           eng         320        5629932               70390          NaN  \n3           eng         352           6267                 272          NaN  \n4           eng         435        2149872               33964          NaN  ",
      "text/html": "<div>\n<style scoped>\n    .dataframe tbody tr th:only-of-type {\n        vertical-align: middle;\n    }\n\n    .dataframe tbody tr th {\n        vertical-align: top;\n    }\n\n    .dataframe thead th {\n        text-align: right;\n    }\n</style>\n<table border=\"1\" class=\"dataframe\">\n  <thead>\n    <tr style=\"text-align: right;\">\n      <th></th>\n      <th>bookID</th>\n      <th>title</th>\n      <th>authors</th>\n      <th>average_rating</th>\n      <th>isbn</th>\n      <th>isbn13</th>\n      <th>language_code</th>\n      <th># num_pages</th>\n      <th>ratings_count</th>\n      <th>text_reviews_count</th>\n      <th>Unnamed: 10</th>\n    </tr>\n  </thead>\n  <tbody>\n    <tr>\n      <th>0</th>\n      <td>1</td>\n      <td>Harry Potter and the Half-Blood Prince (Harry ...</td>\n      <td>J.K. Rowling-Mary GrandPré</td>\n      <td>4.56</td>\n      <td>439785960</td>\n      <td>9.78044E+12</td>\n      <td>eng</td>\n      <td>652</td>\n      <td>1944099</td>\n      <td>26249</td>\n      <td>NaN</td>\n    </tr>\n    <tr>\n      <th>1</th>\n      <td>2</td>\n      <td>Harry Potter and the Order of the Phoenix (Har...</td>\n      <td>J.K. Rowling-Mary GrandPré</td>\n      <td>4.49</td>\n      <td>439358078</td>\n      <td>9.78044E+12</td>\n      <td>eng</td>\n      <td>870</td>\n      <td>1996446</td>\n      <td>27613</td>\n      <td>NaN</td>\n    </tr>\n    <tr>\n      <th>2</th>\n      <td>3</td>\n      <td>Harry Potter and the Sorcerer's Stone (Harry P...</td>\n      <td>J.K. Rowling-Mary GrandPré</td>\n      <td>4.47</td>\n      <td>439554934</td>\n      <td>9.78044E+12</td>\n      <td>eng</td>\n      <td>320</td>\n      <td>5629932</td>\n      <td>70390</td>\n      <td>NaN</td>\n    </tr>\n    <tr>\n      <th>3</th>\n      <td>4</td>\n      <td>Harry Potter and the Chamber of Secrets (Harry...</td>\n      <td>J.K. Rowling</td>\n      <td>4.41</td>\n      <td>439554896</td>\n      <td>9.78044E+12</td>\n      <td>eng</td>\n      <td>352</td>\n      <td>6267</td>\n      <td>272</td>\n      <td>NaN</td>\n    </tr>\n    <tr>\n      <th>4</th>\n      <td>5</td>\n      <td>Harry Potter and the Prisoner of Azkaban (Harr...</td>\n      <td>J.K. Rowling-Mary GrandPré</td>\n      <td>4.55</td>\n      <td>043965548X</td>\n      <td>9.78044E+12</td>\n      <td>eng</td>\n      <td>435</td>\n      <td>2149872</td>\n      <td>33964</td>\n      <td>NaN</td>\n    </tr>\n  </tbody>\n</table>\n</div>"
     },
     "metadata": {},
     "execution_count": 3
    }
   ],
   "source": [
    "df.head(5)"
   ]
  },
  {
   "cell_type": "markdown",
   "metadata": {},
   "source": [
    "## Get all the rows selecting the collumns title ,authors and language_code"
   ]
  },
  {
   "cell_type": "code",
   "execution_count": 4,
   "metadata": {},
   "outputs": [
    {
     "output_type": "execute_result",
     "data": {
      "text/plain": "                                                   title  \\\n0      Harry Potter and the Half-Blood Prince (Harry ...   \n1      Harry Potter and the Order of the Phoenix (Har...   \n2      Harry Potter and the Sorcerer's Stone (Harry P...   \n3      Harry Potter and the Chamber of Secrets (Harry...   \n4      Harry Potter and the Prisoner of Azkaban (Harr...   \n...                                                  ...   \n13713                                     M Is for Magic   \n13714                                       Black Orchid   \n13715                        InterWorld (InterWorld  #1)   \n13716                                The Faeries' Oracle   \n13717                      The World of The Dark Crystal   \n\n                             authors language_code  \n0         J.K. Rowling-Mary GrandPré           eng  \n1         J.K. Rowling-Mary GrandPré           eng  \n2         J.K. Rowling-Mary GrandPré           eng  \n3                       J.K. Rowling           eng  \n4         J.K. Rowling-Mary GrandPré           eng  \n...                              ...           ...  \n13713  Neil Gaiman-Teddy Kristiansen           eng  \n13714        Neil Gaiman-Dave McKean           eng  \n13715     Neil Gaiman-Michael Reaves         en-US  \n13716    Brian Froud-Jessica Macbeth           eng  \n13717                    Brian Froud           eng  \n\n[13718 rows x 3 columns]",
      "text/html": "<div>\n<style scoped>\n    .dataframe tbody tr th:only-of-type {\n        vertical-align: middle;\n    }\n\n    .dataframe tbody tr th {\n        vertical-align: top;\n    }\n\n    .dataframe thead th {\n        text-align: right;\n    }\n</style>\n<table border=\"1\" class=\"dataframe\">\n  <thead>\n    <tr style=\"text-align: right;\">\n      <th></th>\n      <th>title</th>\n      <th>authors</th>\n      <th>language_code</th>\n    </tr>\n  </thead>\n  <tbody>\n    <tr>\n      <th>0</th>\n      <td>Harry Potter and the Half-Blood Prince (Harry ...</td>\n      <td>J.K. Rowling-Mary GrandPré</td>\n      <td>eng</td>\n    </tr>\n    <tr>\n      <th>1</th>\n      <td>Harry Potter and the Order of the Phoenix (Har...</td>\n      <td>J.K. Rowling-Mary GrandPré</td>\n      <td>eng</td>\n    </tr>\n    <tr>\n      <th>2</th>\n      <td>Harry Potter and the Sorcerer's Stone (Harry P...</td>\n      <td>J.K. Rowling-Mary GrandPré</td>\n      <td>eng</td>\n    </tr>\n    <tr>\n      <th>3</th>\n      <td>Harry Potter and the Chamber of Secrets (Harry...</td>\n      <td>J.K. Rowling</td>\n      <td>eng</td>\n    </tr>\n    <tr>\n      <th>4</th>\n      <td>Harry Potter and the Prisoner of Azkaban (Harr...</td>\n      <td>J.K. Rowling-Mary GrandPré</td>\n      <td>eng</td>\n    </tr>\n    <tr>\n      <th>...</th>\n      <td>...</td>\n      <td>...</td>\n      <td>...</td>\n    </tr>\n    <tr>\n      <th>13713</th>\n      <td>M Is for Magic</td>\n      <td>Neil Gaiman-Teddy Kristiansen</td>\n      <td>eng</td>\n    </tr>\n    <tr>\n      <th>13714</th>\n      <td>Black Orchid</td>\n      <td>Neil Gaiman-Dave McKean</td>\n      <td>eng</td>\n    </tr>\n    <tr>\n      <th>13715</th>\n      <td>InterWorld (InterWorld  #1)</td>\n      <td>Neil Gaiman-Michael Reaves</td>\n      <td>en-US</td>\n    </tr>\n    <tr>\n      <th>13716</th>\n      <td>The Faeries' Oracle</td>\n      <td>Brian Froud-Jessica Macbeth</td>\n      <td>eng</td>\n    </tr>\n    <tr>\n      <th>13717</th>\n      <td>The World of The Dark Crystal</td>\n      <td>Brian Froud</td>\n      <td>eng</td>\n    </tr>\n  </tbody>\n</table>\n<p>13718 rows × 3 columns</p>\n</div>"
     },
     "metadata": {},
     "execution_count": 4
    }
   ],
   "source": [
    "df.loc[:,['title','authors','language_code']]"
   ]
  },
  {
   "cell_type": "markdown",
   "metadata": {},
   "source": [
    "## Get the titles written by only J.K. Rowling"
   ]
  },
  {
   "cell_type": "code",
   "execution_count": 17,
   "metadata": {},
   "outputs": [],
   "source": [
    "df_top = df.head(20)\n",
    "df_top['average_rating'] =pd.to_numeric(df_top['average_rating'])\n"
   ]
  },
  {
   "cell_type": "code",
   "execution_count": 19,
   "metadata": {},
   "outputs": [
    {
     "output_type": "execute_result",
     "data": {
      "text/plain": "   bookID                                              title       authors  \\\n3       4  Harry Potter and the Chamber of Secrets (Harry...  J.K. Rowling   \n7      10       Harry Potter Collection (Harry Potter  #1-6)  J.K. Rowling   \n\n   average_rating       isbn        isbn13 language_code # num_pages  \\\n3            4.41  439554896  9.780440e+12           eng         352   \n7            4.73  439827604  9.780440e+12           eng        3342   \n\n   ratings_count  text_reviews_count  Unnamed: 10  \n3           6267                 272          NaN  \n7          27410                 820          NaN  ",
      "text/html": "<div>\n<style scoped>\n    .dataframe tbody tr th:only-of-type {\n        vertical-align: middle;\n    }\n\n    .dataframe tbody tr th {\n        vertical-align: top;\n    }\n\n    .dataframe thead th {\n        text-align: right;\n    }\n</style>\n<table border=\"1\" class=\"dataframe\">\n  <thead>\n    <tr style=\"text-align: right;\">\n      <th></th>\n      <th>bookID</th>\n      <th>title</th>\n      <th>authors</th>\n      <th>average_rating</th>\n      <th>isbn</th>\n      <th>isbn13</th>\n      <th>language_code</th>\n      <th># num_pages</th>\n      <th>ratings_count</th>\n      <th>text_reviews_count</th>\n      <th>Unnamed: 10</th>\n    </tr>\n  </thead>\n  <tbody>\n    <tr>\n      <th>3</th>\n      <td>4</td>\n      <td>Harry Potter and the Chamber of Secrets (Harry...</td>\n      <td>J.K. Rowling</td>\n      <td>4.41</td>\n      <td>439554896</td>\n      <td>9.780440e+12</td>\n      <td>eng</td>\n      <td>352</td>\n      <td>6267</td>\n      <td>272</td>\n      <td>NaN</td>\n    </tr>\n    <tr>\n      <th>7</th>\n      <td>10</td>\n      <td>Harry Potter Collection (Harry Potter  #1-6)</td>\n      <td>J.K. Rowling</td>\n      <td>4.73</td>\n      <td>439827604</td>\n      <td>9.780440e+12</td>\n      <td>eng</td>\n      <td>3342</td>\n      <td>27410</td>\n      <td>820</td>\n      <td>NaN</td>\n    </tr>\n  </tbody>\n</table>\n</div>"
     },
     "metadata": {},
     "execution_count": 19
    }
   ],
   "source": [
    "df_top.loc[(df_top['authors']=='J.K. Rowling') & (df_top['average_rating']>4.2)]"
   ]
  },
  {
   "cell_type": "code",
   "execution_count": null,
   "metadata": {},
   "outputs": [],
   "source": []
  },
  {
   "cell_type": "markdown",
   "metadata": {},
   "source": [
    "## Get the titles written by either J.K. Rowling or Stephen King"
   ]
  },
  {
   "cell_type": "code",
   "execution_count": 20,
   "metadata": {},
   "outputs": [
    {
     "output_type": "execute_result",
     "data": {
      "text/plain": "       bookID                                              title  \\\n3           4  Harry Potter and the Chamber of Secrets (Harry...   \n7          10       Harry Potter Collection (Harry Potter  #1-6)   \n693      2002  Harry Potter Schoolbooks Box Set: Two Classic ...   \n695      2005  Harry Potter and the Half-Blood Prince (Harry ...   \n1123     3357  Harry Potter Y La Piedra Filosofal (Harry Pott...   \n...       ...                                                ...   \n12261   41912                       Harry Potter ve Felsefe Taşı   \n12664   43504  Harry Potter and the Philosopher's Stone (Harr...   \n12667   43509  Harry Potter and the Goblet of Fire (Harry Pot...   \n13641   47532  Harry Potter y el prisionero de Azkaban (Harry...   \n13647   47549              La Torre Oscura (La Torre Oscura  #7)   \n\n            authors average_rating        isbn        isbn13 language_code  \\\n3      J.K. Rowling           4.41   439554896  9.780440e+12           eng   \n7      J.K. Rowling           4.73   439827604  9.780440e+12           eng   \n693    J.K. Rowling            4.4  043932162X  9.780440e+12           eng   \n695    J.K. Rowling           4.56   747584664  9.780750e+12           eng   \n1123   J.K. Rowling           4.47   613359607  9.780610e+12           spa   \n...             ...            ...         ...           ...           ...   \n12261  J.K. Rowling           4.47  3570211010  9.783570e+12           tur   \n12664  J.K. Rowling           4.47  158234681X  9.781580e+12           gla   \n12667  J.K. Rowling           4.55  074754624X  9.780750e+12           eng   \n13641  J.K. Rowling           4.55  8478886559  9.788480e+12           spa   \n13647  Stephen King           4.28  8401335833  9.788400e+12           spa   \n\n      # num_pages  ratings_count  text_reviews_count  Unnamed: 10  \n3             352           6267                 272          NaN  \n7            3342          27410                 820          NaN  \n693           240          11459                 143          NaN  \n695           768           1173                  72          NaN  \n1123          254             84                   5          NaN  \n...           ...            ...                 ...          ...  \n12261         353             12                   0          NaN  \n12664         250             11                   0          NaN  \n12667         636          18097                 860          NaN  \n13641         359           5582                 469          NaN  \n13647         985             46                   5          NaN  \n\n[81 rows x 11 columns]",
      "text/html": "<div>\n<style scoped>\n    .dataframe tbody tr th:only-of-type {\n        vertical-align: middle;\n    }\n\n    .dataframe tbody tr th {\n        vertical-align: top;\n    }\n\n    .dataframe thead th {\n        text-align: right;\n    }\n</style>\n<table border=\"1\" class=\"dataframe\">\n  <thead>\n    <tr style=\"text-align: right;\">\n      <th></th>\n      <th>bookID</th>\n      <th>title</th>\n      <th>authors</th>\n      <th>average_rating</th>\n      <th>isbn</th>\n      <th>isbn13</th>\n      <th>language_code</th>\n      <th># num_pages</th>\n      <th>ratings_count</th>\n      <th>text_reviews_count</th>\n      <th>Unnamed: 10</th>\n    </tr>\n  </thead>\n  <tbody>\n    <tr>\n      <th>3</th>\n      <td>4</td>\n      <td>Harry Potter and the Chamber of Secrets (Harry...</td>\n      <td>J.K. Rowling</td>\n      <td>4.41</td>\n      <td>439554896</td>\n      <td>9.780440e+12</td>\n      <td>eng</td>\n      <td>352</td>\n      <td>6267</td>\n      <td>272</td>\n      <td>NaN</td>\n    </tr>\n    <tr>\n      <th>7</th>\n      <td>10</td>\n      <td>Harry Potter Collection (Harry Potter  #1-6)</td>\n      <td>J.K. Rowling</td>\n      <td>4.73</td>\n      <td>439827604</td>\n      <td>9.780440e+12</td>\n      <td>eng</td>\n      <td>3342</td>\n      <td>27410</td>\n      <td>820</td>\n      <td>NaN</td>\n    </tr>\n    <tr>\n      <th>693</th>\n      <td>2002</td>\n      <td>Harry Potter Schoolbooks Box Set: Two Classic ...</td>\n      <td>J.K. Rowling</td>\n      <td>4.4</td>\n      <td>043932162X</td>\n      <td>9.780440e+12</td>\n      <td>eng</td>\n      <td>240</td>\n      <td>11459</td>\n      <td>143</td>\n      <td>NaN</td>\n    </tr>\n    <tr>\n      <th>695</th>\n      <td>2005</td>\n      <td>Harry Potter and the Half-Blood Prince (Harry ...</td>\n      <td>J.K. Rowling</td>\n      <td>4.56</td>\n      <td>747584664</td>\n      <td>9.780750e+12</td>\n      <td>eng</td>\n      <td>768</td>\n      <td>1173</td>\n      <td>72</td>\n      <td>NaN</td>\n    </tr>\n    <tr>\n      <th>1123</th>\n      <td>3357</td>\n      <td>Harry Potter Y La Piedra Filosofal (Harry Pott...</td>\n      <td>J.K. Rowling</td>\n      <td>4.47</td>\n      <td>613359607</td>\n      <td>9.780610e+12</td>\n      <td>spa</td>\n      <td>254</td>\n      <td>84</td>\n      <td>5</td>\n      <td>NaN</td>\n    </tr>\n    <tr>\n      <th>...</th>\n      <td>...</td>\n      <td>...</td>\n      <td>...</td>\n      <td>...</td>\n      <td>...</td>\n      <td>...</td>\n      <td>...</td>\n      <td>...</td>\n      <td>...</td>\n      <td>...</td>\n      <td>...</td>\n    </tr>\n    <tr>\n      <th>12261</th>\n      <td>41912</td>\n      <td>Harry Potter ve Felsefe Taşı</td>\n      <td>J.K. Rowling</td>\n      <td>4.47</td>\n      <td>3570211010</td>\n      <td>9.783570e+12</td>\n      <td>tur</td>\n      <td>353</td>\n      <td>12</td>\n      <td>0</td>\n      <td>NaN</td>\n    </tr>\n    <tr>\n      <th>12664</th>\n      <td>43504</td>\n      <td>Harry Potter and the Philosopher's Stone (Harr...</td>\n      <td>J.K. Rowling</td>\n      <td>4.47</td>\n      <td>158234681X</td>\n      <td>9.781580e+12</td>\n      <td>gla</td>\n      <td>250</td>\n      <td>11</td>\n      <td>0</td>\n      <td>NaN</td>\n    </tr>\n    <tr>\n      <th>12667</th>\n      <td>43509</td>\n      <td>Harry Potter and the Goblet of Fire (Harry Pot...</td>\n      <td>J.K. Rowling</td>\n      <td>4.55</td>\n      <td>074754624X</td>\n      <td>9.780750e+12</td>\n      <td>eng</td>\n      <td>636</td>\n      <td>18097</td>\n      <td>860</td>\n      <td>NaN</td>\n    </tr>\n    <tr>\n      <th>13641</th>\n      <td>47532</td>\n      <td>Harry Potter y el prisionero de Azkaban (Harry...</td>\n      <td>J.K. Rowling</td>\n      <td>4.55</td>\n      <td>8478886559</td>\n      <td>9.788480e+12</td>\n      <td>spa</td>\n      <td>359</td>\n      <td>5582</td>\n      <td>469</td>\n      <td>NaN</td>\n    </tr>\n    <tr>\n      <th>13647</th>\n      <td>47549</td>\n      <td>La Torre Oscura (La Torre Oscura  #7)</td>\n      <td>Stephen King</td>\n      <td>4.28</td>\n      <td>8401335833</td>\n      <td>9.788400e+12</td>\n      <td>spa</td>\n      <td>985</td>\n      <td>46</td>\n      <td>5</td>\n      <td>NaN</td>\n    </tr>\n  </tbody>\n</table>\n<p>81 rows × 11 columns</p>\n</div>"
     },
     "metadata": {},
     "execution_count": 20
    }
   ],
   "source": [
    "df.loc[df['authors'].isin(['J.K. Rowling','Stephen King'])]"
   ]
  },
  {
   "cell_type": "markdown",
   "metadata": {},
   "source": [
    "## Get the titles of the books which contain Harry Potter"
   ]
  },
  {
   "cell_type": "code",
   "execution_count": 25,
   "metadata": {},
   "outputs": [
    {
     "output_type": "execute_result",
     "data": {
      "text/plain": "0         True\n1         True\n2         True\n3         True\n4         True\n         ...  \n13713    False\n13714    False\n13715    False\n13716    False\n13717    False\nName: title, Length: 13718, dtype: bool"
     },
     "metadata": {},
     "execution_count": 25
    }
   ],
   "source": [
    "df['title'].str.contains('Harry Potter')"
   ]
  },
  {
   "cell_type": "code",
   "execution_count": 26,
   "metadata": {},
   "outputs": [
    {
     "output_type": "execute_result",
     "data": {
      "text/plain": "       bookID                                              title  \\\n0           1  Harry Potter and the Half-Blood Prince (Harry ...   \n1           2  Harry Potter and the Order of the Phoenix (Har...   \n2           3  Harry Potter and the Sorcerer's Stone (Harry P...   \n3           4  Harry Potter and the Chamber of Secrets (Harry...   \n4           5  Harry Potter and the Prisoner of Azkaban (Harr...   \n5           8  Harry Potter Boxed Set  Books 1-5 (Harry Potte...   \n6           9  Unauthorized Harry Potter Book Seven News: \"Ha...   \n7          10       Harry Potter Collection (Harry Potter  #1-6)   \n693      2002  Harry Potter Schoolbooks Box Set: Two Classic ...   \n694      2004  J.K. Rowling's Harry Potter Novels: A Reader's...   \n695      2005  Harry Potter and the Half-Blood Prince (Harry ...   \n1123     3357  Harry Potter Y La Piedra Filosofal (Harry Pott...   \n1429     4256  Harry Potter and the Prisoner of Azkaban (Harr...   \n5076    15190                    Looking for God in Harry Potter   \n5293    15867  Mugglenet.Com's What Will Happen in Harry Pott...   \n5294    15872  Harry Potter y el misterio del príncipe (Harry...   \n5295    15875  Harry Potter y la cámara secreta (Harry Potter...   \n5296    15876  Harry Potter y la Orden del Fénix (Harry Potte...   \n5297    15877  Ultimate Unofficial Guide to the Mysteries of ...   \n5298    15879                        The Science Of Harry Potter   \n5300    15881  Harry Potter and the Chamber of Secrets (Harry...   \n9854    31819  Harry Potter and Philosophy: If Aristotle Ran ...   \n10521   34258  Harry Potter y la Orden del Fénix (Harry Potte...   \n10542   34318  Harry Potter and the Sorcerer's Stone (Harry P...   \n12257   41907  Harry Potter und die Kammer des Schreckens (Ha...   \n12258   41908  Harry Potter und der Gefangene von Askaban (Ha...   \n12259   41909    Harry Potter ve Sırlar Odası (Harry Potter  #2)   \n12260   41911  Harry Potter und der Gefangene von Askaban (Ha...   \n12261   41912                       Harry Potter ve Felsefe Taşı   \n12664   43504  Harry Potter and the Philosopher's Stone (Harr...   \n12665   43507  Гарри Поттер и философский камень (Harry Potte...   \n12666   43508                  Harry Potter e il Calice di Fuoco   \n12667   43509  Harry Potter and the Goblet of Fire (Harry Pot...   \n13637   47522  Harry Potter und der Stein der Weisen (Harry P...   \n13638   47523        Harry Potter Boxed Set (Harry Potter  #1-4)   \n13640   47530  Mapping the World of Harry Potter: Science Fic...   \n13641   47532  Harry Potter y el prisionero de Azkaban (Harry...   \n13642   47538  Harry Potter et le Prisonnier d'Azkaban (Harry...   \n\n                                                 authors average_rating  \\\n0                             J.K. Rowling-Mary GrandPré           4.56   \n1                             J.K. Rowling-Mary GrandPré           4.49   \n2                             J.K. Rowling-Mary GrandPré           4.47   \n3                                           J.K. Rowling           4.41   \n4                             J.K. Rowling-Mary GrandPré           4.55   \n5                             J.K. Rowling-Mary GrandPré           4.78   \n6                                 W. Frederick Zimmerman           3.69   \n7                                           J.K. Rowling           4.73   \n693                                         J.K. Rowling            4.4   \n694                                           Philip Nel           3.57   \n695                                         J.K. Rowling           4.56   \n1123                                        J.K. Rowling           4.47   \n1429                                        J.K. Rowling           4.55   \n5076                                        John Granger           4.13   \n5293   Ben Schoen-Andy Gordon-Gretchen Stull-Emerson ...           4.22   \n5294                    J.K. Rowling-Gemma Rovira Ortega           4.56   \n5295                                        J.K. Rowling           4.41   \n5296                                        J.K. Rowling           4.49   \n5297                   Galadriel Waters-Astre Mithrandir           4.05   \n5298                                     Roger Highfield           4.04   \n5300                          J.K. Rowling-Mary GrandPré           4.41   \n9854                        David Baggett-Shawn E. Klein           4.48   \n10521                                       J.K. Rowling           4.49   \n10542                         J.K. Rowling-Mary GrandPré           4.47   \n12257                                       J.K. Rowling           4.41   \n12258                            J.K. Rowling-Rufus Beck           4.55   \n12259                           J.K. Rowling-Sevin Okyay           4.41   \n12260                                       J.K. Rowling           4.55   \n12261                                       J.K. Rowling           4.47   \n12664                                       J.K. Rowling           4.47   \n12665           J.K. Rowling-Дж.К. Ролинг-И.В. Оранского           4.47   \n12666  J.K. Rowling-Serena Daniele-Beatrice Masini-Se...           4.55   \n12667                                       J.K. Rowling           4.55   \n13637                           J.K. Rowling-Klaus Fritz           4.47   \n13638                         J.K. Rowling-Mary GrandPré           4.67   \n13640  Mercedes Lackey-Leah Wilson-Adam-Troy Castro-R...           4.32   \n13641                                       J.K. Rowling           4.55   \n13642                  J.K. Rowling-Jean-François Ménard           4.55   \n\n             isbn        isbn13 language_code # num_pages  ratings_count  \\\n0       439785960  9.780440e+12           eng         652        1944099   \n1       439358078  9.780440e+12           eng         870        1996446   \n2       439554934  9.780440e+12           eng         320        5629932   \n3       439554896  9.780440e+12           eng         352           6267   \n4      043965548X  9.780440e+12           eng         435        2149872   \n5       439682584  9.780440e+12           eng        2690          38872   \n6       976540606  9.780980e+12         en-US         152             18   \n7       439827604  9.780440e+12           eng        3342          27410   \n693    043932162X  9.780440e+12           eng         240          11459   \n694     826452329  9.780830e+12           eng          96             74   \n695     747584664  9.780750e+12           eng         768           1173   \n1123    613359607  9.780610e+12           spa         254             84   \n1429   074757362X  9.780750e+12           eng         480           3116   \n5076   1414306342  9.781410e+12           eng         234           1321   \n5293   1569755833  9.781570e+12         en-GB         216           8587   \n5294   8478889930  9.788480e+12           spa         602           4572   \n5295   8498380138  9.788500e+12           spa         288            181   \n5296   8478888845  9.788480e+12           spa         893           4893   \n5297    972393617  9.780970e+12         en-US         412           2725   \n5298    755311515  9.780760e+12         en-GB         374             19   \n5300    439064864  9.780440e+12           eng         341        2115562   \n9854    812694554  9.780810e+12           eng         243          11068   \n10521  8478887423  9.788480e+12           spa         896            953   \n10542   786222727  9.780790e+12           eng         424            132   \n12257  3551552096  9.783550e+12           ger         351             25   \n12258  3895849618  9.783900e+12           ger          13            308   \n12259  3570211029  9.783570e+12           tur         403            823   \n12260  355155210X  9.783550e+12           ger         448             28   \n12261  3570211010  9.783570e+12           tur         353             12   \n12664  158234681X  9.781580e+12           gla         250             11   \n12665  535300308X  9.785350e+12           rus         400            425   \n12666  888451049X  9.788880e+12           ita         627           4983   \n12667  074754624X  9.780750e+12           eng         636          18097   \n13637  3551354014  9.783550e+12           ger         334            694   \n13638   439434866  9.780440e+12           eng        1820            534   \n13640  1932100598  9.781930e+12           eng         195           2461   \n13641  8478886559  9.788480e+12           spa         359           5582   \n13642  2070541304  9.782070e+12           fre         349            249   \n\n       text_reviews_count  Unnamed: 10  \n0                   26249          NaN  \n1                   27613          NaN  \n2                   70390          NaN  \n3                     272          NaN  \n4                   33964          NaN  \n5                     154          NaN  \n6                       1          NaN  \n7                     820          NaN  \n693                   143          NaN  \n694                     7          NaN  \n695                    72          NaN  \n1123                    5          NaN  \n1429                  147          NaN  \n5076                   93          NaN  \n5293                  118          NaN  \n5294                  338          NaN  \n5295                   15          NaN  \n5296                  397          NaN  \n5297                   36          NaN  \n5298                    5          NaN  \n5300                32694          NaN  \n9854                   79          NaN  \n10521                  51          NaN  \n10542                  12          NaN  \n12257                   1          NaN  \n12258                   8          NaN  \n12259                  36          NaN  \n12260                   2          NaN  \n12261                   0          NaN  \n12664                   0          NaN  \n12665                   7          NaN  \n12666                 157          NaN  \n12667                 860          NaN  \n13637                  44          NaN  \n13638                   6          NaN  \n13640                  54          NaN  \n13641                 469          NaN  \n13642                  11          NaN  ",
      "text/html": "<div>\n<style scoped>\n    .dataframe tbody tr th:only-of-type {\n        vertical-align: middle;\n    }\n\n    .dataframe tbody tr th {\n        vertical-align: top;\n    }\n\n    .dataframe thead th {\n        text-align: right;\n    }\n</style>\n<table border=\"1\" class=\"dataframe\">\n  <thead>\n    <tr style=\"text-align: right;\">\n      <th></th>\n      <th>bookID</th>\n      <th>title</th>\n      <th>authors</th>\n      <th>average_rating</th>\n      <th>isbn</th>\n      <th>isbn13</th>\n      <th>language_code</th>\n      <th># num_pages</th>\n      <th>ratings_count</th>\n      <th>text_reviews_count</th>\n      <th>Unnamed: 10</th>\n    </tr>\n  </thead>\n  <tbody>\n    <tr>\n      <th>0</th>\n      <td>1</td>\n      <td>Harry Potter and the Half-Blood Prince (Harry ...</td>\n      <td>J.K. Rowling-Mary GrandPré</td>\n      <td>4.56</td>\n      <td>439785960</td>\n      <td>9.780440e+12</td>\n      <td>eng</td>\n      <td>652</td>\n      <td>1944099</td>\n      <td>26249</td>\n      <td>NaN</td>\n    </tr>\n    <tr>\n      <th>1</th>\n      <td>2</td>\n      <td>Harry Potter and the Order of the Phoenix (Har...</td>\n      <td>J.K. Rowling-Mary GrandPré</td>\n      <td>4.49</td>\n      <td>439358078</td>\n      <td>9.780440e+12</td>\n      <td>eng</td>\n      <td>870</td>\n      <td>1996446</td>\n      <td>27613</td>\n      <td>NaN</td>\n    </tr>\n    <tr>\n      <th>2</th>\n      <td>3</td>\n      <td>Harry Potter and the Sorcerer's Stone (Harry P...</td>\n      <td>J.K. Rowling-Mary GrandPré</td>\n      <td>4.47</td>\n      <td>439554934</td>\n      <td>9.780440e+12</td>\n      <td>eng</td>\n      <td>320</td>\n      <td>5629932</td>\n      <td>70390</td>\n      <td>NaN</td>\n    </tr>\n    <tr>\n      <th>3</th>\n      <td>4</td>\n      <td>Harry Potter and the Chamber of Secrets (Harry...</td>\n      <td>J.K. Rowling</td>\n      <td>4.41</td>\n      <td>439554896</td>\n      <td>9.780440e+12</td>\n      <td>eng</td>\n      <td>352</td>\n      <td>6267</td>\n      <td>272</td>\n      <td>NaN</td>\n    </tr>\n    <tr>\n      <th>4</th>\n      <td>5</td>\n      <td>Harry Potter and the Prisoner of Azkaban (Harr...</td>\n      <td>J.K. Rowling-Mary GrandPré</td>\n      <td>4.55</td>\n      <td>043965548X</td>\n      <td>9.780440e+12</td>\n      <td>eng</td>\n      <td>435</td>\n      <td>2149872</td>\n      <td>33964</td>\n      <td>NaN</td>\n    </tr>\n    <tr>\n      <th>5</th>\n      <td>8</td>\n      <td>Harry Potter Boxed Set  Books 1-5 (Harry Potte...</td>\n      <td>J.K. Rowling-Mary GrandPré</td>\n      <td>4.78</td>\n      <td>439682584</td>\n      <td>9.780440e+12</td>\n      <td>eng</td>\n      <td>2690</td>\n      <td>38872</td>\n      <td>154</td>\n      <td>NaN</td>\n    </tr>\n    <tr>\n      <th>6</th>\n      <td>9</td>\n      <td>Unauthorized Harry Potter Book Seven News: \"Ha...</td>\n      <td>W. Frederick Zimmerman</td>\n      <td>3.69</td>\n      <td>976540606</td>\n      <td>9.780980e+12</td>\n      <td>en-US</td>\n      <td>152</td>\n      <td>18</td>\n      <td>1</td>\n      <td>NaN</td>\n    </tr>\n    <tr>\n      <th>7</th>\n      <td>10</td>\n      <td>Harry Potter Collection (Harry Potter  #1-6)</td>\n      <td>J.K. Rowling</td>\n      <td>4.73</td>\n      <td>439827604</td>\n      <td>9.780440e+12</td>\n      <td>eng</td>\n      <td>3342</td>\n      <td>27410</td>\n      <td>820</td>\n      <td>NaN</td>\n    </tr>\n    <tr>\n      <th>693</th>\n      <td>2002</td>\n      <td>Harry Potter Schoolbooks Box Set: Two Classic ...</td>\n      <td>J.K. Rowling</td>\n      <td>4.4</td>\n      <td>043932162X</td>\n      <td>9.780440e+12</td>\n      <td>eng</td>\n      <td>240</td>\n      <td>11459</td>\n      <td>143</td>\n      <td>NaN</td>\n    </tr>\n    <tr>\n      <th>694</th>\n      <td>2004</td>\n      <td>J.K. Rowling's Harry Potter Novels: A Reader's...</td>\n      <td>Philip Nel</td>\n      <td>3.57</td>\n      <td>826452329</td>\n      <td>9.780830e+12</td>\n      <td>eng</td>\n      <td>96</td>\n      <td>74</td>\n      <td>7</td>\n      <td>NaN</td>\n    </tr>\n    <tr>\n      <th>695</th>\n      <td>2005</td>\n      <td>Harry Potter and the Half-Blood Prince (Harry ...</td>\n      <td>J.K. Rowling</td>\n      <td>4.56</td>\n      <td>747584664</td>\n      <td>9.780750e+12</td>\n      <td>eng</td>\n      <td>768</td>\n      <td>1173</td>\n      <td>72</td>\n      <td>NaN</td>\n    </tr>\n    <tr>\n      <th>1123</th>\n      <td>3357</td>\n      <td>Harry Potter Y La Piedra Filosofal (Harry Pott...</td>\n      <td>J.K. Rowling</td>\n      <td>4.47</td>\n      <td>613359607</td>\n      <td>9.780610e+12</td>\n      <td>spa</td>\n      <td>254</td>\n      <td>84</td>\n      <td>5</td>\n      <td>NaN</td>\n    </tr>\n    <tr>\n      <th>1429</th>\n      <td>4256</td>\n      <td>Harry Potter and the Prisoner of Azkaban (Harr...</td>\n      <td>J.K. Rowling</td>\n      <td>4.55</td>\n      <td>074757362X</td>\n      <td>9.780750e+12</td>\n      <td>eng</td>\n      <td>480</td>\n      <td>3116</td>\n      <td>147</td>\n      <td>NaN</td>\n    </tr>\n    <tr>\n      <th>5076</th>\n      <td>15190</td>\n      <td>Looking for God in Harry Potter</td>\n      <td>John Granger</td>\n      <td>4.13</td>\n      <td>1414306342</td>\n      <td>9.781410e+12</td>\n      <td>eng</td>\n      <td>234</td>\n      <td>1321</td>\n      <td>93</td>\n      <td>NaN</td>\n    </tr>\n    <tr>\n      <th>5293</th>\n      <td>15867</td>\n      <td>Mugglenet.Com's What Will Happen in Harry Pott...</td>\n      <td>Ben Schoen-Andy Gordon-Gretchen Stull-Emerson ...</td>\n      <td>4.22</td>\n      <td>1569755833</td>\n      <td>9.781570e+12</td>\n      <td>en-GB</td>\n      <td>216</td>\n      <td>8587</td>\n      <td>118</td>\n      <td>NaN</td>\n    </tr>\n    <tr>\n      <th>5294</th>\n      <td>15872</td>\n      <td>Harry Potter y el misterio del príncipe (Harry...</td>\n      <td>J.K. Rowling-Gemma Rovira Ortega</td>\n      <td>4.56</td>\n      <td>8478889930</td>\n      <td>9.788480e+12</td>\n      <td>spa</td>\n      <td>602</td>\n      <td>4572</td>\n      <td>338</td>\n      <td>NaN</td>\n    </tr>\n    <tr>\n      <th>5295</th>\n      <td>15875</td>\n      <td>Harry Potter y la cámara secreta (Harry Potter...</td>\n      <td>J.K. Rowling</td>\n      <td>4.41</td>\n      <td>8498380138</td>\n      <td>9.788500e+12</td>\n      <td>spa</td>\n      <td>288</td>\n      <td>181</td>\n      <td>15</td>\n      <td>NaN</td>\n    </tr>\n    <tr>\n      <th>5296</th>\n      <td>15876</td>\n      <td>Harry Potter y la Orden del Fénix (Harry Potte...</td>\n      <td>J.K. Rowling</td>\n      <td>4.49</td>\n      <td>8478888845</td>\n      <td>9.788480e+12</td>\n      <td>spa</td>\n      <td>893</td>\n      <td>4893</td>\n      <td>397</td>\n      <td>NaN</td>\n    </tr>\n    <tr>\n      <th>5297</th>\n      <td>15877</td>\n      <td>Ultimate Unofficial Guide to the Mysteries of ...</td>\n      <td>Galadriel Waters-Astre Mithrandir</td>\n      <td>4.05</td>\n      <td>972393617</td>\n      <td>9.780970e+12</td>\n      <td>en-US</td>\n      <td>412</td>\n      <td>2725</td>\n      <td>36</td>\n      <td>NaN</td>\n    </tr>\n    <tr>\n      <th>5298</th>\n      <td>15879</td>\n      <td>The Science Of Harry Potter</td>\n      <td>Roger Highfield</td>\n      <td>4.04</td>\n      <td>755311515</td>\n      <td>9.780760e+12</td>\n      <td>en-GB</td>\n      <td>374</td>\n      <td>19</td>\n      <td>5</td>\n      <td>NaN</td>\n    </tr>\n    <tr>\n      <th>5300</th>\n      <td>15881</td>\n      <td>Harry Potter and the Chamber of Secrets (Harry...</td>\n      <td>J.K. Rowling-Mary GrandPré</td>\n      <td>4.41</td>\n      <td>439064864</td>\n      <td>9.780440e+12</td>\n      <td>eng</td>\n      <td>341</td>\n      <td>2115562</td>\n      <td>32694</td>\n      <td>NaN</td>\n    </tr>\n    <tr>\n      <th>9854</th>\n      <td>31819</td>\n      <td>Harry Potter and Philosophy: If Aristotle Ran ...</td>\n      <td>David Baggett-Shawn E. Klein</td>\n      <td>4.48</td>\n      <td>812694554</td>\n      <td>9.780810e+12</td>\n      <td>eng</td>\n      <td>243</td>\n      <td>11068</td>\n      <td>79</td>\n      <td>NaN</td>\n    </tr>\n    <tr>\n      <th>10521</th>\n      <td>34258</td>\n      <td>Harry Potter y la Orden del Fénix (Harry Potte...</td>\n      <td>J.K. Rowling</td>\n      <td>4.49</td>\n      <td>8478887423</td>\n      <td>9.788480e+12</td>\n      <td>spa</td>\n      <td>896</td>\n      <td>953</td>\n      <td>51</td>\n      <td>NaN</td>\n    </tr>\n    <tr>\n      <th>10542</th>\n      <td>34318</td>\n      <td>Harry Potter and the Sorcerer's Stone (Harry P...</td>\n      <td>J.K. Rowling-Mary GrandPré</td>\n      <td>4.47</td>\n      <td>786222727</td>\n      <td>9.780790e+12</td>\n      <td>eng</td>\n      <td>424</td>\n      <td>132</td>\n      <td>12</td>\n      <td>NaN</td>\n    </tr>\n    <tr>\n      <th>12257</th>\n      <td>41907</td>\n      <td>Harry Potter und die Kammer des Schreckens (Ha...</td>\n      <td>J.K. Rowling</td>\n      <td>4.41</td>\n      <td>3551552096</td>\n      <td>9.783550e+12</td>\n      <td>ger</td>\n      <td>351</td>\n      <td>25</td>\n      <td>1</td>\n      <td>NaN</td>\n    </tr>\n    <tr>\n      <th>12258</th>\n      <td>41908</td>\n      <td>Harry Potter und der Gefangene von Askaban (Ha...</td>\n      <td>J.K. Rowling-Rufus Beck</td>\n      <td>4.55</td>\n      <td>3895849618</td>\n      <td>9.783900e+12</td>\n      <td>ger</td>\n      <td>13</td>\n      <td>308</td>\n      <td>8</td>\n      <td>NaN</td>\n    </tr>\n    <tr>\n      <th>12259</th>\n      <td>41909</td>\n      <td>Harry Potter ve Sırlar Odası (Harry Potter  #2)</td>\n      <td>J.K. Rowling-Sevin Okyay</td>\n      <td>4.41</td>\n      <td>3570211029</td>\n      <td>9.783570e+12</td>\n      <td>tur</td>\n      <td>403</td>\n      <td>823</td>\n      <td>36</td>\n      <td>NaN</td>\n    </tr>\n    <tr>\n      <th>12260</th>\n      <td>41911</td>\n      <td>Harry Potter und der Gefangene von Askaban (Ha...</td>\n      <td>J.K. Rowling</td>\n      <td>4.55</td>\n      <td>355155210X</td>\n      <td>9.783550e+12</td>\n      <td>ger</td>\n      <td>448</td>\n      <td>28</td>\n      <td>2</td>\n      <td>NaN</td>\n    </tr>\n    <tr>\n      <th>12261</th>\n      <td>41912</td>\n      <td>Harry Potter ve Felsefe Taşı</td>\n      <td>J.K. Rowling</td>\n      <td>4.47</td>\n      <td>3570211010</td>\n      <td>9.783570e+12</td>\n      <td>tur</td>\n      <td>353</td>\n      <td>12</td>\n      <td>0</td>\n      <td>NaN</td>\n    </tr>\n    <tr>\n      <th>12664</th>\n      <td>43504</td>\n      <td>Harry Potter and the Philosopher's Stone (Harr...</td>\n      <td>J.K. Rowling</td>\n      <td>4.47</td>\n      <td>158234681X</td>\n      <td>9.781580e+12</td>\n      <td>gla</td>\n      <td>250</td>\n      <td>11</td>\n      <td>0</td>\n      <td>NaN</td>\n    </tr>\n    <tr>\n      <th>12665</th>\n      <td>43507</td>\n      <td>Гарри Поттер и философский камень (Harry Potte...</td>\n      <td>J.K. Rowling-Дж.К. Ролинг-И.В. Оранского</td>\n      <td>4.47</td>\n      <td>535300308X</td>\n      <td>9.785350e+12</td>\n      <td>rus</td>\n      <td>400</td>\n      <td>425</td>\n      <td>7</td>\n      <td>NaN</td>\n    </tr>\n    <tr>\n      <th>12666</th>\n      <td>43508</td>\n      <td>Harry Potter e il Calice di Fuoco</td>\n      <td>J.K. Rowling-Serena Daniele-Beatrice Masini-Se...</td>\n      <td>4.55</td>\n      <td>888451049X</td>\n      <td>9.788880e+12</td>\n      <td>ita</td>\n      <td>627</td>\n      <td>4983</td>\n      <td>157</td>\n      <td>NaN</td>\n    </tr>\n    <tr>\n      <th>12667</th>\n      <td>43509</td>\n      <td>Harry Potter and the Goblet of Fire (Harry Pot...</td>\n      <td>J.K. Rowling</td>\n      <td>4.55</td>\n      <td>074754624X</td>\n      <td>9.780750e+12</td>\n      <td>eng</td>\n      <td>636</td>\n      <td>18097</td>\n      <td>860</td>\n      <td>NaN</td>\n    </tr>\n    <tr>\n      <th>13637</th>\n      <td>47522</td>\n      <td>Harry Potter und der Stein der Weisen (Harry P...</td>\n      <td>J.K. Rowling-Klaus Fritz</td>\n      <td>4.47</td>\n      <td>3551354014</td>\n      <td>9.783550e+12</td>\n      <td>ger</td>\n      <td>334</td>\n      <td>694</td>\n      <td>44</td>\n      <td>NaN</td>\n    </tr>\n    <tr>\n      <th>13638</th>\n      <td>47523</td>\n      <td>Harry Potter Boxed Set (Harry Potter  #1-4)</td>\n      <td>J.K. Rowling-Mary GrandPré</td>\n      <td>4.67</td>\n      <td>439434866</td>\n      <td>9.780440e+12</td>\n      <td>eng</td>\n      <td>1820</td>\n      <td>534</td>\n      <td>6</td>\n      <td>NaN</td>\n    </tr>\n    <tr>\n      <th>13640</th>\n      <td>47530</td>\n      <td>Mapping the World of Harry Potter: Science Fic...</td>\n      <td>Mercedes Lackey-Leah Wilson-Adam-Troy Castro-R...</td>\n      <td>4.32</td>\n      <td>1932100598</td>\n      <td>9.781930e+12</td>\n      <td>eng</td>\n      <td>195</td>\n      <td>2461</td>\n      <td>54</td>\n      <td>NaN</td>\n    </tr>\n    <tr>\n      <th>13641</th>\n      <td>47532</td>\n      <td>Harry Potter y el prisionero de Azkaban (Harry...</td>\n      <td>J.K. Rowling</td>\n      <td>4.55</td>\n      <td>8478886559</td>\n      <td>9.788480e+12</td>\n      <td>spa</td>\n      <td>359</td>\n      <td>5582</td>\n      <td>469</td>\n      <td>NaN</td>\n    </tr>\n    <tr>\n      <th>13642</th>\n      <td>47538</td>\n      <td>Harry Potter et le Prisonnier d'Azkaban (Harry...</td>\n      <td>J.K. Rowling-Jean-François Ménard</td>\n      <td>4.55</td>\n      <td>2070541304</td>\n      <td>9.782070e+12</td>\n      <td>fre</td>\n      <td>349</td>\n      <td>249</td>\n      <td>11</td>\n      <td>NaN</td>\n    </tr>\n  </tbody>\n</table>\n</div>"
     },
     "metadata": {},
     "execution_count": 26
    }
   ],
   "source": [
    "df.loc[df['title'].str.contains('Harry Potter')]"
   ]
  },
  {
   "cell_type": "markdown",
   "metadata": {},
   "source": [
    "# Operations on DataFrame\n"
   ]
  },
  {
   "cell_type": "markdown",
   "metadata": {},
   "source": [
    "## Sort the dataset w.r.t title column"
   ]
  },
  {
   "cell_type": "code",
   "execution_count": null,
   "metadata": {},
   "outputs": [],
   "source": []
  },
  {
   "cell_type": "markdown",
   "metadata": {},
   "source": [
    "## Add a new column grade . Assign grade A for ratings between 4-5, B for ratings between 3-4 and C for any rating below 3"
   ]
  },
  {
   "cell_type": "code",
   "execution_count": null,
   "metadata": {},
   "outputs": [],
   "source": []
  },
  {
   "cell_type": "markdown",
   "metadata": {},
   "source": [
    "# GroupBy"
   ]
  },
  {
   "cell_type": "markdown",
   "metadata": {},
   "source": [
    "## Use occupation dataset from occupation.csv"
   ]
  },
  {
   "cell_type": "code",
   "execution_count": null,
   "metadata": {},
   "outputs": [],
   "source": []
  },
  {
   "cell_type": "markdown",
   "metadata": {},
   "source": [
    "## Identify the occupation where female workers are more in number compared to male workers. Also get the difference number. Plot the result as occupation vs the number of jobs for male and female in one graph"
   ]
  },
  {
   "cell_type": "code",
   "execution_count": null,
   "metadata": {},
   "outputs": [],
   "source": []
  },
  {
   "cell_type": "markdown",
   "metadata": {},
   "source": [
    "## Categorize male and female works who fall in different age group. Get the age group approximated to multiples of 10. (10,20,30,40.. i.e any age between 10 to 20 has to approximated to 20 , between 20 to 30 to 30 and so on..). Plot the appropriate graph"
   ]
  },
  {
   "cell_type": "code",
   "execution_count": null,
   "metadata": {},
   "outputs": [],
   "source": []
  },
  {
   "cell_type": "markdown",
   "metadata": {},
   "source": [
    "## Load tips dataset"
   ]
  },
  {
   "cell_type": "markdown",
   "metadata": {},
   "source": [
    "## Calculate the tips given by male and female on particular day of the week. Plot an appropriate graph showing days of the week , tips given by male and female for all the days of the week"
   ]
  },
  {
   "cell_type": "code",
   "execution_count": null,
   "metadata": {},
   "outputs": [],
   "source": []
  }
 ],
 "metadata": {
  "kernelspec": {
   "display_name": "Python 3",
   "language": "python",
   "name": "python3"
  },
  "language_info": {
   "codemirror_mode": {
    "name": "ipython",
    "version": 3
   },
   "file_extension": ".py",
   "mimetype": "text/x-python",
   "name": "python",
   "nbconvert_exporter": "python",
   "pygments_lexer": "ipython3",
   "version": "3.7.6-final"
  }
 },
 "nbformat": 4,
 "nbformat_minor": 2
}