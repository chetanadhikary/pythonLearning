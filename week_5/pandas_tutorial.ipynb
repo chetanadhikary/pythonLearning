{
 "cells": [
  {
   "cell_type": "markdown",
   "metadata": {},
   "source": [
    "## Learn Pandas Data Structures by Emulation using known Python Data Structures"
   ]
  },
  {
   "cell_type": "code",
   "execution_count": null,
   "metadata": {},
   "outputs": [],
   "source": [
    "lst_names = ['chetan','bruhanth','aishwarya','shabbir','sindhu']\n",
    "lst_job = ['Faculty','Research','Developer','Developer','Developer']\n",
    "lst_hobbies = [['cricket','reading'],['reading'],['travelling'],['reading'],['reading']]"
   ]
  },
  {
   "cell_type": "code",
   "execution_count": null,
   "metadata": {},
   "outputs": [],
   "source": [
    "lst_names[2]"
   ]
  },
  {
   "cell_type": "markdown",
   "metadata": {},
   "source": [
    "<html>\n",
    "    <table>\n",
    "        <tr>\n",
    "            <th>index</th><th> 0 </th><th> 1</th><th> 2</th><th> 3</th><th> 4</th>\n",
    "        </tr>\n",
    "        <tr>\n",
    "            <td>lst_names</td><td>chetan</td><td>bruhanth</td><td>aishwarya</td><td>shabbir</td><td>sindhu</td>\n",
    "        </tr>\n",
    "        <tr>\n",
    "            <td>lst_job</td><td>Faculty</td><td>Research</td><td>Developer</td><td>Developer</td><td>Developer</td>\n",
    "        </tr>\n",
    "        <tr>\n",
    "            <td>lst_hobbies</td><td>cricket,reading</td><td>reading</td><td>travelling</td><td>reading</td><td>reading</td>\n",
    "        </tr>\n",
    "    </table>\n",
    "</html>"
   ]
  },
  {
   "cell_type": "code",
   "execution_count": null,
   "metadata": {
    "tags": []
   },
   "outputs": [],
   "source": [
    "# %%timeit\n",
    "name = 'chetan'\n",
    "for index in range(5):\n",
    "    if lst_names[index] == name:\n",
    "#         print(f'Name:{lst_names[index]}')\n",
    "        print(f'Job:{lst_job[index]}')\n",
    "        print(f'Hobbies:{lst_hobbies[index]}')\n",
    "#         print(f'Hobbies: {lst_hobbies[index]}')\n",
    "    "
   ]
  },
  {
   "cell_type": "code",
   "execution_count": null,
   "metadata": {},
   "outputs": [],
   "source": [
    "for key in dict_profiles.keys()"
   ]
  },
  {
   "cell_type": "code",
   "execution_count": null,
   "metadata": {},
   "outputs": [],
   "source": [
    "# %%timeit\n",
    "dict_profiles['shabbir']"
   ]
  },
  {
   "cell_type": "code",
   "execution_count": null,
   "metadata": {},
   "outputs": [],
   "source": [
    "name = 'bruhanth'\n",
    "index = lst_names.index(name)\n",
    "print(f'Name:{lst_names[index]}')\n",
    "print(f'Job:{lst_job[index]}')\n",
    "print(f'Hobbies:{lst_hobbies[index]}')"
   ]
  },
  {
   "cell_type": "code",
   "execution_count": null,
   "metadata": {},
   "outputs": [],
   "source": [
    "dict_profile_1 ={'Name':'chetan','Job':'Faculty','hobbies':['cricket','reading'],}\n",
    "dict_profile_2 = {'Name':'bruhanth','Job':'Research','hobbies':['reading']}\n",
    "dict_profile_3 = {'Name':'aishwarya','Job':'Developer','hobbies':['travelling']}\n",
    "dict_profile_4 = {'Name':'shabbir','Job':'Developer','hobbies':['reading']}\n",
    "dict_profile_5 = {'Name':'sindhu','Job':'Developer','hobbies':['reading']}\n",
    "lst_profiles = list([dict_profile_1,dict_profile_2,dict_profile_3,dict_profile_4,dict_profile_5])"
   ]
  },
  {
   "cell_type": "markdown",
   "metadata": {},
   "source": [
    "<html>\n",
    "    <table >\n",
    "        <tr>\n",
    "            <th>index</th><th> 0 </th><th> 1 </th><th> 2</th><th> 3</th><th> 4</th>\n",
    "        </tr>\n",
    "        <tr>\n",
    "            <td>Name</td><td>chetan</td><td>bruhanth</td><td>aishwarya</td><td>shabbir</td><td>sindhu</td>\n",
    "        </tr>\n",
    "        <tr>\n",
    "            <td>Job</td><td>Faculty</td><td>Research</td><td>Developer</td><td>Developer</td><td>Developer</td>\n",
    "        </tr>\n",
    "        <tr>\n",
    "            <td>hobbies</td><td>cricket,reading</td><td>reading</td><td>travelling</td><td>reading</td><td>reading</td>\n",
    "        </tr>\n",
    "    </table>\n",
    "</html>"
   ]
  },
  {
   "cell_type": "code",
   "execution_count": null,
   "metadata": {},
   "outputs": [],
   "source": [
    "name = 'aishwarya'\n",
    "index = lst_names.index(name)\n",
    "lst_profiles[index]['Job']"
   ]
  },
  {
   "cell_type": "code",
   "execution_count": null,
   "metadata": {},
   "outputs": [],
   "source": [
    "dict_profiles = dict({'chetan':dict_profile_1,'bruhanth':dict_profile_2,\n",
    "                     'aishwarya':dict_profile_3,'shabbir':dict_profile_4,\n",
    "                     'sindhu':dict_profile_5})"
   ]
  },
  {
   "cell_type": "markdown",
   "metadata": {},
   "source": [
    "<html>\n",
    "    <table >\n",
    "        <tr>\n",
    "            <th>key</th><th> Name </th><th> Job </th><th>Hobbies</th>\n",
    "        </tr>\n",
    "        <tr>\n",
    "            <td>chetan</td><td>chetan</td><td>Faculty</td><td>reading,cricket</td>\n",
    "        </tr>\n",
    "        <tr>\n",
    "            <td>bruhanth</td><td>bruhanth</td><td>Research</td><td>reading</td>\n",
    "        </tr>\n",
    "        <tr>\n",
    "            <td>aishwarya</td><td>aishwarya</td><td>Developer</td><td>travelling</td>\n",
    "        </tr>\n",
    "        <tr>\n",
    "            <td>shabbir</td><td>shabbir</td><td>Developer</td><td>reading</td>\n",
    "        </tr>\n",
    "        <tr>\n",
    "            <td>sindhu</td><td>sindhu</td><td>Developer</td><td>reading</td>\n",
    "        </tr>\n",
    "    </table>\n",
    "</html>"
   ]
  },
  {
   "cell_type": "code",
   "execution_count": null,
   "metadata": {},
   "outputs": [],
   "source": [
    "dict_profiles['shabbir']['hobbies']"
   ]
  },
  {
   "cell_type": "markdown",
   "metadata": {},
   "source": [
    "# Pandas Datastructures"
   ]
  },
  {
   "cell_type": "code",
   "execution_count": null,
   "metadata": {},
   "outputs": [],
   "source": [
    "import pandas as pd"
   ]
  },
  {
   "cell_type": "markdown",
   "metadata": {},
   "source": [
    "## Dataframe"
   ]
  },
  {
   "cell_type": "code",
   "execution_count": null,
   "metadata": {},
   "outputs": [],
   "source": [
    "df_student = pd.DataFrame()\n",
    "df_student['Name'] = ['Harry Potter','Ronald Weasley','Harmoine Grenger']\n",
    "df_student['Branch'] = ['ECE','CSE','ECE']\n",
    "df_student['Hobbies'] = ['Football,Cricket','Chess','Reading']"
   ]
  },
  {
   "cell_type": "code",
   "execution_count": null,
   "metadata": {},
   "outputs": [],
   "source": [
    "df_student"
   ]
  },
  {
   "cell_type": "code",
   "execution_count": null,
   "metadata": {},
   "outputs": [],
   "source": [
    "df_student.columns,df_student.index"
   ]
  },
  {
   "cell_type": "code",
   "execution_count": null,
   "metadata": {},
   "outputs": [],
   "source": [
    "type(df_student.values)"
   ]
  },
  {
   "cell_type": "code",
   "execution_count": null,
   "metadata": {},
   "outputs": [],
   "source": [
    "df_student.loc[df_student['Name'] == 'Harry Potter',['Branch','Hobbies']]"
   ]
  },
  {
   "cell_type": "code",
   "execution_count": null,
   "metadata": {},
   "outputs": [],
   "source": [
    "type(df_student.values)"
   ]
  },
  {
   "cell_type": "markdown",
   "metadata": {},
   "source": [
    "## Series"
   ]
  },
  {
   "cell_type": "code",
   "execution_count": null,
   "metadata": {},
   "outputs": [],
   "source": [
    "ser_1 = pd.Series(['Draco','Civil','Bowling,Horse Riding'],index = ['Name','Branch','Hobbies'])\n",
    "ser_1"
   ]
  },
  {
   "cell_type": "code",
   "execution_count": null,
   "metadata": {},
   "outputs": [],
   "source": [
    "df_student.append(ser_1,ignore_index= True)"
   ]
  },
  {
   "cell_type": "code",
   "execution_count": null,
   "metadata": {},
   "outputs": [],
   "source": [
    "df_student['Branch']"
   ]
  },
  {
   "cell_type": "code",
   "execution_count": null,
   "metadata": {},
   "outputs": [],
   "source": [
    "df_student.Branch"
   ]
  },
  {
   "cell_type": "markdown",
   "metadata": {},
   "source": [
    "# Load DataSet"
   ]
  },
  {
   "cell_type": "code",
   "execution_count": null,
   "metadata": {},
   "outputs": [],
   "source": [
    "import pandas as pd"
   ]
  },
  {
   "cell_type": "code",
   "execution_count": null,
   "metadata": {},
   "outputs": [],
   "source": [
    "df_drinks = pd.read_csv('drinks.csv',sep = ',',index_col = 0)\n",
    "\n",
    "df_mpg = pd.read_csv('mpg.csv',sep = ',',index_col = 0)\n",
    "\n",
    "df_euro = pd.read_csv('Euro_2012_stats_TEAM.csv',sep = ',',index_col = 0)\n",
    "\n",
    "df_occupation = pd.read_csv('occupation.csv',index_col = 'user_id')\n",
    "\n",
    "df_tips = pd.read_csv('tips.csv',index_col = 0)\n",
    "\n",
    "df_titanic = pd.read_csv('titanic.csv',index_col = 0)\n",
    "\n",
    "df_sales = pd.read_csv('sales_data.csv',index_col = 0)\n",
    "\n",
    "df_chipo = pd.read_csv('chipotle.tsv',sep = '\\t',index_col =0)\n",
    "\n",
    "df_books = pd.read_csv('books.csv')\n",
    "\n",
    "df_cricket = pd.read_csv('cricket_result.csv')\n",
    "\n",
    "df_football = pd.read_csv('football_player.csv',index_col = 0)"
   ]
  },
  {
   "cell_type": "code",
   "execution_count": null,
   "metadata": {},
   "outputs": [],
   "source": [
    "pd.read_csv?"
   ]
  },
  {
   "cell_type": "code",
   "execution_count": null,
   "metadata": {
    "collapsed": true
   },
   "outputs": [],
   "source": [
    "df = df_chipo\n",
    "\n"
   ]
  },
  {
   "cell_type": "code",
   "execution_count": null,
   "metadata": {},
   "outputs": [],
   "source": [
    "df.head(5)"
   ]
  },
  {
   "cell_type": "code",
   "execution_count": null,
   "metadata": {
    "collapsed": true
   },
   "outputs": [],
   "source": [
    "df.tail(10)"
   ]
  },
  {
   "cell_type": "code",
   "execution_count": null,
   "metadata": {
    "collapsed": true
   },
   "outputs": [],
   "source": [
    "df.dtypes"
   ]
  },
  {
   "cell_type": "code",
   "execution_count": null,
   "metadata": {},
   "outputs": [],
   "source": [
    "df.shape"
   ]
  },
  {
   "cell_type": "code",
   "execution_count": null,
   "metadata": {},
   "outputs": [],
   "source": [
    "df.columns"
   ]
  },
  {
   "cell_type": "code",
   "execution_count": null,
   "metadata": {
    "collapsed": true,
    "tags": []
   },
   "outputs": [],
   "source": [
    "df.info()"
   ]
  },
  {
   "cell_type": "code",
   "execution_count": null,
   "metadata": {
    "collapsed": true
   },
   "outputs": [],
   "source": [
    "df.describe()"
   ]
  },
  {
   "cell_type": "code",
   "execution_count": null,
   "metadata": {
    "collapsed": true
   },
   "outputs": [],
   "source": [
    "df.describe(include = 'all')"
   ]
  },
  {
   "cell_type": "code",
   "execution_count": null,
   "metadata": {},
   "outputs": [],
   "source": [
    "df['item_name'].nunique()"
   ]
  },
  {
   "cell_type": "code",
   "execution_count": null,
   "metadata": {
    "collapsed": true
   },
   "outputs": [],
   "source": [
    "df['item_name'].value_counts().head(5)"
   ]
  },
  {
   "cell_type": "code",
   "execution_count": null,
   "metadata": {},
   "outputs": [],
   "source": [
    "df['item_name'].nunique()"
   ]
  },
  {
   "cell_type": "code",
   "execution_count": null,
   "metadata": {
    "collapsed": true
   },
   "outputs": [],
   "source": [
    "df['item_name'].unique()"
   ]
  },
  {
   "cell_type": "code",
   "execution_count": null,
   "metadata": {
    "collapsed": true
   },
   "outputs": [],
   "source": [
    "df.index"
   ]
  },
  {
   "cell_type": "markdown",
   "metadata": {},
   "source": [
    "# Filter the Data"
   ]
  },
  {
   "cell_type": "code",
   "execution_count": null,
   "metadata": {},
   "outputs": [],
   "source": [
    "df.head(10)"
   ]
  },
  {
   "cell_type": "code",
   "execution_count": null,
   "metadata": {},
   "outputs": [],
   "source": [
    "df.iloc[1:5]"
   ]
  },
  {
   "cell_type": "code",
   "execution_count": null,
   "metadata": {},
   "outputs": [],
   "source": [
    "df.loc[1:5]"
   ]
  },
  {
   "cell_type": "code",
   "execution_count": null,
   "metadata": {},
   "outputs": [],
   "source": [
    "column_array = ['quantity','item_price']\n",
    "df[column_array]\n",
    "df[['quantity','item_price']]"
   ]
  },
  {
   "cell_type": "code",
   "execution_count": null,
   "metadata": {},
   "outputs": [],
   "source": [
    "type(df[['item_price']]),type(df['item_price'])"
   ]
  },
  {
   "cell_type": "code",
   "execution_count": null,
   "metadata": {
    "scrolled": false
   },
   "outputs": [],
   "source": [
    "df.loc[3:7,['quantity','item_price']]"
   ]
  },
  {
   "cell_type": "code",
   "execution_count": null,
   "metadata": {},
   "outputs": [],
   "source": [
    "df.iloc[5:15,[1,3]]"
   ]
  },
  {
   "cell_type": "code",
   "execution_count": null,
   "metadata": {},
   "outputs": [],
   "source": [
    "df.loc[:,['item_name']].head(10)"
   ]
  },
  {
   "cell_type": "code",
   "execution_count": null,
   "metadata": {},
   "outputs": [],
   "source": [
    "df.iloc[:,1:4].head(10)"
   ]
  },
  {
   "cell_type": "code",
   "execution_count": null,
   "metadata": {},
   "outputs": [],
   "source": [
    "df[['quantity','item_price']]"
   ]
  },
  {
   "cell_type": "code",
   "execution_count": null,
   "metadata": {},
   "outputs": [],
   "source": [
    "str_name = 'Chetan Adhikary'\n",
    "str_name.split(' ')[0].lower().split('e')[0].upper()"
   ]
  },
  {
   "cell_type": "code",
   "execution_count": null,
   "metadata": {},
   "outputs": [],
   "source": [
    "df.columns[0].title()"
   ]
  },
  {
   "cell_type": "code",
   "execution_count": null,
   "metadata": {},
   "outputs": [],
   "source": [
    "dir(str)"
   ]
  },
  {
   "cell_type": "code",
   "execution_count": null,
   "metadata": {},
   "outputs": [],
   "source": [
    "df.columns"
   ]
  },
  {
   "cell_type": "code",
   "execution_count": null,
   "metadata": {},
   "outputs": [],
   "source": [
    "df.columns = [col.lower().replace(' ','_') for col in df.columns]"
   ]
  },
  {
   "cell_type": "code",
   "execution_count": null,
   "metadata": {},
   "outputs": [],
   "source": [
    "df.columns"
   ]
  },
  {
   "cell_type": "code",
   "execution_count": null,
   "metadata": {},
   "outputs": [],
   "source": [
    "df.ITEM_NAME.value_counts()"
   ]
  },
  {
   "cell_type": "markdown",
   "metadata": {},
   "source": [
    "## Filtering using Conditions"
   ]
  },
  {
   "cell_type": "code",
   "execution_count": null,
   "metadata": {},
   "outputs": [],
   "source": [
    "df = df_chipo"
   ]
  },
  {
   "cell_type": "code",
   "execution_count": null,
   "metadata": {},
   "outputs": [],
   "source": [
    "df['quantity']>2"
   ]
  },
  {
   "cell_type": "code",
   "execution_count": null,
   "metadata": {},
   "outputs": [],
   "source": [
    "df.loc[5:10]"
   ]
  },
  {
   "cell_type": "code",
   "execution_count": null,
   "metadata": {},
   "outputs": [],
   "source": [
    "df.loc[df['quantity']>2,['quantity','item_name']].head(5)"
   ]
  },
  {
   "cell_type": "code",
   "execution_count": null,
   "metadata": {},
   "outputs": [],
   "source": [
    "df.loc[df['quantity']>2][['quantity','item_name']].head(5)"
   ]
  },
  {
   "cell_type": "code",
   "execution_count": null,
   "metadata": {
    "scrolled": true
   },
   "outputs": [],
   "source": [
    "df.loc[df['quantity']>2,'quantity'] = 6\n"
   ]
  },
  {
   "cell_type": "code",
   "execution_count": null,
   "metadata": {},
   "outputs": [],
   "source": [
    "masked_q = df['quantity']>2\n",
    "df_mod = df[masked_q]\n",
    "df_new = df_mod['quantity']\n",
    "df_new.head(10)"
   ]
  },
  {
   "cell_type": "code",
   "execution_count": null,
   "metadata": {},
   "outputs": [],
   "source": [
    "df[(df['quantity']> 2) & (df['item_name'] == 'Canned Soft Drink')]\n",
    "# df[(df['quantity']> 2) and (df['item_name'] == 'Canned Soft Drink')]"
   ]
  },
  {
   "cell_type": "code",
   "execution_count": null,
   "metadata": {},
   "outputs": [],
   "source": [
    "df.loc[df['item_name'].isin(['Bottled Water','Canned Soft Drink']),['quantity','item_price','item_name']].head(10)"
   ]
  },
  {
   "cell_type": "code",
   "execution_count": null,
   "metadata": {},
   "outputs": [],
   "source": [
    "df.loc[df['item_name'].str.startswith('Veggie'),['quantity','item_price','item_name']].head(10)"
   ]
  },
  {
   "cell_type": "markdown",
   "metadata": {},
   "source": [
    "# Operations on DataFrame\n"
   ]
  },
  {
   "cell_type": "code",
   "execution_count": null,
   "metadata": {},
   "outputs": [],
   "source": [
    "df.sort_values(by = 'quantity',ascending=False).head(10)#.tail(10)"
   ]
  },
  {
   "cell_type": "code",
   "execution_count": null,
   "metadata": {},
   "outputs": [],
   "source": [
    "df.sort_values(by = 'item_price',ascending = False).head(10)"
   ]
  },
  {
   "cell_type": "code",
   "execution_count": null,
   "metadata": {},
   "outputs": [],
   "source": [
    "item_price_mod = df['item_price'].apply(lambda x : float(x.strip('$')))\n",
    "item_price_mod\n",
    "df['item_price_mod'] = item_price_mod\n",
    "df.head()"
   ]
  },
  {
   "cell_type": "code",
   "execution_count": null,
   "metadata": {},
   "outputs": [],
   "source": [
    "df['gst_price'] = df['item_price_mod'] * 0.18 + df['item_price_mod']\n",
    "df.head(10)"
   ]
  },
  {
   "cell_type": "code",
   "execution_count": null,
   "metadata": {},
   "outputs": [],
   "source": [
    "df['revenue'] = df['item_price_mod']*df['quantity']\n",
    "df.head()"
   ]
  },
  {
   "cell_type": "markdown",
   "metadata": {},
   "source": [
    "# INDEXES"
   ]
  },
  {
   "cell_type": "code",
   "execution_count": null,
   "metadata": {},
   "outputs": [],
   "source": [
    "# Using the books dataframe for this section\n",
    "df = df_books\n",
    "df.head()"
   ]
  },
  {
   "cell_type": "code",
   "execution_count": null,
   "metadata": {},
   "outputs": [],
   "source": [
    "df.index"
   ]
  },
  {
   "cell_type": "code",
   "execution_count": null,
   "metadata": {},
   "outputs": [],
   "source": [
    "df.tail(10)"
   ]
  },
  {
   "cell_type": "code",
   "execution_count": null,
   "metadata": {
    "tags": []
   },
   "outputs": [],
   "source": [
    "%%time \n",
    "df[df['authors'] =='David C. Hendrickson']"
   ]
  },
  {
   "cell_type": "code",
   "execution_count": null,
   "metadata": {},
   "outputs": [],
   "source": [
    "s = df.set_index('authors').sort_index()"
   ]
  },
  {
   "cell_type": "code",
   "execution_count": null,
   "metadata": {},
   "outputs": [],
   "source": [
    "s.head(5)"
   ]
  },
  {
   "cell_type": "code",
   "execution_count": null,
   "metadata": {
    "tags": []
   },
   "outputs": [],
   "source": [
    "%%time\n",
    "s.loc['David C. Hendrickson']"
   ]
  },
  {
   "cell_type": "code",
   "execution_count": null,
   "metadata": {},
   "outputs": [],
   "source": [
    "df.head()\n",
    "\n",
    "p_i = df.set_index(['authors','title']).sort_index()\n",
    "p_i"
   ]
  },
  {
   "cell_type": "markdown",
   "metadata": {},
   "source": [
    "# GroupBy"
   ]
  },
  {
   "cell_type": "code",
   "execution_count": null,
   "metadata": {},
   "outputs": [],
   "source": [
    "# use df_cricket dataset\n",
    "df = df_cricket\n",
    "df.head()"
   ]
  },
  {
   "cell_type": "code",
   "execution_count": null,
   "metadata": {},
   "outputs": [],
   "source": [
    "df.columns"
   ]
  },
  {
   "cell_type": "code",
   "execution_count": null,
   "metadata": {},
   "outputs": [],
   "source": [
    "df['venue'].unique()"
   ]
  },
  {
   "cell_type": "code",
   "execution_count": null,
   "metadata": {},
   "outputs": [],
   "source": []
  },
  {
   "cell_type": "markdown",
   "metadata": {},
   "source": [
    "## Analyze for each season ,how were the most of the matches won, on basis of batting strength or bowling strength"
   ]
  },
  {
   "cell_type": "code",
   "execution_count": null,
   "metadata": {},
   "outputs": [],
   "source": [
    "df['won_by'] = df['win_by_runs'].fillna(0)\n",
    "df['won_by'] = df['won_by'].apply(lambda x: 'field' if x == 0 else 'bat')\n",
    "\n",
    "\n",
    "wb = df.groupby(by = ['season','won_by'])['winner'].count()\n",
    "wb.unstack(1).plot(kind='bar')"
   ]
  },
  {
   "cell_type": "markdown",
   "metadata": {},
   "source": [
    "## How many won the toss as well as the match \n"
   ]
  },
  {
   "cell_type": "code",
   "execution_count": null,
   "metadata": {},
   "outputs": [],
   "source": [
    "toss_team = df[df['toss_winner']==df['winner']]\n",
    "td = toss_team.groupby(by = ['season','toss_decision'])['winner'].count()\n",
    "td\n",
    "\n",
    "td.unstack(1).plot(kind='bar')"
   ]
  },
  {
   "cell_type": "code",
   "execution_count": null,
   "metadata": {},
   "outputs": [],
   "source": []
  },
  {
   "cell_type": "markdown",
   "metadata": {},
   "source": [
    "## Analyze for a particular venue and team"
   ]
  },
  {
   "cell_type": "code",
   "execution_count": null,
   "metadata": {
    "scrolled": true
   },
   "outputs": [],
   "source": [
    "rcb_win = df[df['winner']=='Royal Challengers Bangalore']\n",
    "rcb_t = rcb_win.groupby(by = ['season','won_by','venue'])['winner'].count()\n",
    "rcb_home = rcb_t.unstack(2)#.plot(kind = 'bar')\n",
    "rcb_home.loc[:,'M Chinnaswamy Stadium'].unstack(1).plot(kind = 'bar')"
   ]
  },
  {
   "cell_type": "markdown",
   "metadata": {},
   "source": [
    "## Analyse the venue "
   ]
  },
  {
   "cell_type": "code",
   "execution_count": null,
   "metadata": {},
   "outputs": [],
   "source": [
    "venue = df[df['venue']=='Eden Gardens']\n",
    "venue_g = venue.groupby(by = ['season','won_by'])['winner'].count()\n",
    "venue_g.unstack(1).plot(kind = 'bar')"
   ]
  },
  {
   "cell_type": "markdown",
   "metadata": {},
   "source": [
    "# Plotting"
   ]
  },
  {
   "cell_type": "code",
   "execution_count": null,
   "metadata": {},
   "outputs": [],
   "source": [
    "import matplotlib.pyplot as plt\n",
    "import pandas as pd\n",
    "%matplotlib inline"
   ]
  },
  {
   "cell_type": "markdown",
   "metadata": {},
   "source": [
    "## Univariant scatter plot"
   ]
  },
  {
   "cell_type": "code",
   "execution_count": null,
   "metadata": {
    "scrolled": true
   },
   "outputs": [],
   "source": [
    "tips = pd.read_csv('tips.csv',index_col=0)\n",
    "tips.head()"
   ]
  },
  {
   "cell_type": "code",
   "execution_count": null,
   "metadata": {},
   "outputs": [],
   "source": [
    "tips.total_bill.hist(grid = False)"
   ]
  },
  {
   "cell_type": "code",
   "execution_count": null,
   "metadata": {},
   "outputs": [],
   "source": [
    "fig = plt.figure()\n",
    "axes_tips = fig.add_subplot(1,1,1)\n",
    "tips.hist(column='total_bill',bins=10,ax=axes_tips)\n",
    "# axes_tips.hist(tips['total_bill'], bins=10)\n",
    "axes_tips.set_title('Histogram of Total Bill')\n",
    "axes_tips.set_xlabel('Total Bill')\n",
    "axes_tips.set_ylabel('Frequency')\n"
   ]
  },
  {
   "cell_type": "markdown",
   "metadata": {},
   "source": [
    "## Bivariant Statistical Plot"
   ]
  },
  {
   "cell_type": "code",
   "execution_count": null,
   "metadata": {},
   "outputs": [],
   "source": [
    "scatter_plot = plt.figure()\n",
    "axes_bi = scatter_plot.add_subplot(1,1,1)\n",
    "tips.plot(x='total_bill',y='tip',kind = 'scatter',ax=axes_bi,s = tips['size']*10)\n",
    "# axes_bi.scatter(tips['total_bill'],tips['tip'])\n",
    "axes_bi.set_xlabel('Total Bill')\n",
    "axes_bi.set_ylabel('Tips')\n",
    "axes_bi.set_title('Scatterplot of Total Bill vs Tip')"
   ]
  },
  {
   "cell_type": "markdown",
   "metadata": {},
   "source": [
    "## Box Plot"
   ]
  },
  {
   "cell_type": "code",
   "execution_count": null,
   "metadata": {},
   "outputs": [],
   "source": [
    "boxplot = plt.figure()\n",
    "axes_box = boxplot.add_subplot(1,1,1)\n",
    "# axes_box.boxplot([tips[tips['sex'] =='Female']['tip'],tips[tips['sex']=='Male']['tip']],labels=['Female','Male'])\n",
    "tips.boxplot(column='total_bill',by='sex',ax=axes_box)\n",
    "boxplot.add_axes(axes_box)\n",
    "axes_box.set_xlabel('Sex')\n",
    "axes_box.set_ylabel('Tip')\n",
    "axes_box.set_title('Boxplot of Tips by Sex')\n",
    "boxplot.suptitle('')"
   ]
  },
  {
   "cell_type": "code",
   "execution_count": null,
   "metadata": {},
   "outputs": [],
   "source": [
    "tips.groupby(by=['sex']).mean()\\\n",
    ".plot.pie(y = 'total_bill')"
   ]
  }
 ],
 "metadata": {
  "kernelspec": {
   "display_name": "Python 3",
   "language": "python",
   "name": "python3"
  },
  "language_info": {
   "codemirror_mode": {
    "name": "ipython",
    "version": 3
   },
   "file_extension": ".py",
   "mimetype": "text/x-python",
   "name": "python",
   "nbconvert_exporter": "python",
   "pygments_lexer": "ipython3",
   "version": "3.7.6-final"
  }
 },
 "nbformat": 4,
 "nbformat_minor": 2
}