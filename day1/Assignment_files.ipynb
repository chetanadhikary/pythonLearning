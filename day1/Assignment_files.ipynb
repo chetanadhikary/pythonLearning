{
 "cells": [
  {
   "cell_type": "markdown",
   "metadata": {},
   "source": [
    "## A file named mailbox.txt contains a mailbox with information on the received/sent or any information regarding the mails in a text format(.txt). \n",
    "## Use python to read the file and to get some information from the file"
   ]
  },
  {
   "cell_type": "markdown",
   "metadata": {},
   "source": [
    "## 1.  Write a program to get the following details of the mails which were received from the file : 'mailbox.txt'"
   ]
  },
  {
   "cell_type": "markdown",
   "metadata": {},
   "source": [
    "* Count the number of line in the mailbox\n",
    "* List the mail ids of all the received mails\n",
    "* Count the number of mails recieved in the mailbox\n",
    "* List all the domain names of the received mails\n",
    "* Count the number of mails received from each mail id\n",
    "* Sort the mail received in decending order of received mails from an email-id"
   ]
  },
  {
   "cell_type": "code",
   "execution_count": null,
   "metadata": {},
   "outputs": [],
   "source": []
  }
 ],
 "metadata": {
  "kernelspec": {
   "display_name": "Python 3",
   "language": "python",
   "name": "python3"
  },
  "language_info": {
   "codemirror_mode": {
    "name": "ipython",
    "version": 3
   },
   "file_extension": ".py",
   "mimetype": "text/x-python",
   "name": "python",
   "nbconvert_exporter": "python",
   "pygments_lexer": "ipython3",
   "version": "3.7.1"
  }
 },
 "nbformat": 4,
 "nbformat_minor": 2
}
